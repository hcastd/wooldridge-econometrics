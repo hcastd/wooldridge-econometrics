{
 "cells": [
  {
   "cell_type": "markdown",
   "metadata": {},
   "source": [
    "# Introductory Econometrics: A modern approach\n",
    "---"
   ]
  },
  {
   "cell_type": "markdown",
   "metadata": {},
   "source": [
    "## Chapter 16: Simultaneous Equations Models"
   ]
  },
  {
   "cell_type": "markdown",
   "metadata": {},
   "source": [
    "> Book: \n",
    "\n",
    "    - WOOLDRIDGE, J. M.. Introdução à econometria: uma abordagem moderna. 3a ed. São Paulo: Pioneira Thomson Learning, 2006.\n",
    "\n",
    "    - WOOLDRIDGE, Jeffrey M. Introductory econometrics: A modern approach. Cengage learning, 2015."
   ]
  },
  {
   "cell_type": "markdown",
   "metadata": {},
   "source": [
    "> LINK to codes correction:\n",
    "\n",
    "http://www.upfie.net/downloads16.html"
   ]
  },
  {
   "cell_type": "markdown",
   "metadata": {},
   "source": [
    "# Packages"
   ]
  },
  {
   "cell_type": "code",
   "execution_count": 46,
   "metadata": {},
   "outputs": [],
   "source": [
    "import wooldridge as woo\n",
    "import numpy as np\n",
    "import pandas as pd\n",
    "import linearmodels as lm\n",
    "import linearmodels.iv as iv\n",
    "import linearmodels.system as iv3\n",
    "import statsmodels.formula.api as smf"
   ]
  },
  {
   "cell_type": "markdown",
   "metadata": {},
   "source": [
    "# The Nature of Simultaneous Equations\n",
    "---"
   ]
  },
  {
   "cell_type": "markdown",
   "metadata": {},
   "source": [
    "> Cada equação do sistema tem uma interpretação causal."
   ]
  },
  {
   "cell_type": "markdown",
   "metadata": {},
   "source": [
    "## Oferta e demanda"
   ]
  },
  {
   "cell_type": "markdown",
   "metadata": {},
   "source": [
    "Temos duas equações estruturais no mercado de trabalho, por exemplo:\n",
    "\n",
    "**Oferta**\n",
    "\n",
    "$$h_s = \\alpha_1w + \\beta_1z_1 + u_1$$\n",
    "\n",
    "- $h_s$: horas de trabalho (ofertadas)\n",
    "\n",
    "- $w$: salários em determinado setor (agricultura)\n",
    "\n",
    "- $z_1$: outro fator *observável* que afeta a oferta de trabalho (salário na manufatura)\n",
    "\n",
    "- $u_1$: termo do erro com fatores *não observáveis* que afetam a oferta de trabalho;\n",
    "\n",
    "- $\\alpha_1$ / $\\beta_1$: coeficiente angular de impacto marginal (ou elasticidade na forma log) do salário na oferta de trabalho.\n",
    "\n",
    "**Demanda**\n",
    "\n",
    "\n",
    "$$\n",
    "h_d = \\alpha_2w + \\beta_2z_2 + u_2\n",
    "$$\n",
    "\n",
    "- $h_s$: horas de trabalho (demandadas)\n",
    "\n",
    "- $w$: salários em determinado setor (agricultura)\n",
    "\n",
    "- $z_1$: outro fator *observável* que afeta a demanda de trabalho (tamanho da terra)\n",
    "\n",
    "- $u_2$: termo do erro com fatores *não observáveis* que afetam a demanda de trabalho;\n",
    "\n",
    "- $\\alpha_2$ / $\\beta_2$: coeficiente angular de impacto marginal (ou elasticidade na forma log) do salário / tamanho da terra na oferta de trabalho."
   ]
  },
  {
   "cell_type": "markdown",
   "metadata": {},
   "source": [
    "### **Importante**"
   ]
  },
  {
   "cell_type": "markdown",
   "metadata": {},
   "source": [
    "**Nomenclaturas**\n",
    "\n",
    "1. Variáveis endógenas;\n",
    "\n",
    "2. Variáveis exógenas;\n",
    "\n",
    "3. Erros estruturais;\n",
    "\n",
    "4. **Equações estruturais**: REPRESENTAM o sistema e geralmente são DERIVAVÉIS da própria TEORIA ECONÔMICA.\n",
    "\n",
    "> SEM $z_1$ e $z_2$ é IMPOSSÍVEL estimar as equações acima e diferenciá-las em qual representa oferta e qual representa demanda.\n",
    "\n",
    "    - Em tese, sem essas variáveis, temos a mesma equação apenas com os w's e os u's.\n",
    "\n",
    "Se aplicarmos esse sistema à elementos específicos (indivíduos, países, etc), a forma estrutural ganha o subscrito $i$ e, no equilíbrio:\n",
    "\n",
    "$$h_{is} = h_{id}$$\n",
    "\n",
    "**As equações são determinadas simultaneamente pelas mesmas variáveis! Ou seja, não podemos desenvolver, e nem há como estimar, um sistema de equações simultâneas se as próprias variáveis endógenas estiverem nas equações opostas!!!!**"
   ]
  },
  {
   "cell_type": "markdown",
   "metadata": {},
   "source": [
    "#### **VALE LEMBRAR**"
   ]
  },
  {
   "cell_type": "markdown",
   "metadata": {},
   "source": [
    "> Mesmo que as variáveis-alvo sejam determinadas simultaneamente, nem sempre faz sentido usar a abordagem SEM. Na prática, esse ferramental só pode ser aplicado a variáveis-chave que **POSSUEM INTERPRETAÇÃO CETERIS PARIBUS** independentemente da outra equação!"
   ]
  },
  {
   "cell_type": "markdown",
   "metadata": {},
   "source": [
    "# Simultaneity Bias in OLS\n",
    "--- "
   ]
  },
  {
   "cell_type": "markdown",
   "metadata": {},
   "source": [
    "Geralmente, **variáveis determinadas simultaneamente possuem correlação com os termos de erro**:\n",
    "\n",
    "- A natureza desse viés é similar a da correlação de uma variável exógena com o termo do erro: se torna fonte de **endogeneidade**.\n",
    "\n",
    "Logo:\n",
    "\n",
    "> Estimadores de OLS serão viesados e incosistentes."
   ]
  },
  {
   "cell_type": "markdown",
   "metadata": {},
   "source": [
    "**Forma reduzida para DERVIAR e PROVAR a existências de viés e incosistência**\n",
    "\n",
    "$$h_s = \\alpha_1h_d + \\beta_1z_1 + u_1$$\n",
    "\n",
    "$$h_d = \\alpha_2h_s + \\beta_2z_2 + u_2$$\n",
    "\n",
    "Substituindo valores, poderíamos chegar a uma forma reduzida:\n",
    "\n",
    "$$h_s = \\pi_1z_1 + \\pi_2z_2 + v_2$$\n",
    "\n",
    "Matemáticamente, os parâmetros reduzidos $\\pi$ não são funções lineares dos parâmetros estruturais. Já os erros reduzidos são funções lineares do erro estrutural. \n",
    "\n",
    "Nesse formato, conseguimos estimar a equação em dois estágios por OLS."
   ]
  },
  {
   "cell_type": "markdown",
   "metadata": {},
   "source": [
    "### Contudo..."
   ]
  },
  {
   "cell_type": "markdown",
   "metadata": {},
   "source": [
    "Não sabemos se $h_s$ e $h_d$ são correlacionados com os eros $u_2$ e $u_1$, respectivamente (correlação cruzada entre as endógenas e os erros).\n",
    "\n",
    "Apenas se um dos $\\alpha$'s for 0, podemos afirmar que não há esse tipo de correlação, mas essa seria uma hipótese muito forte, que em diversos casos podemos descartar.\n",
    "\n",
    "Assim, em boa parte das aplicações, a aplicação de 2SLS (MQ20) produz estimadores viesados e inconsistentes.\n",
    "\n",
    "**[VER FORMALIZAÇÃO COMPLETA NO WOOLDRIDGE, EM CASO DE DÚVIDAS]**"
   ]
  },
  {
   "cell_type": "markdown",
   "metadata": {},
   "source": [
    "> **Chegamos na forma reduzida substituindo os elemntos da primeira forma estrutural na segunda forma estrutural, e vice-versa, solucionando a álgebra posteriormente.**"
   ]
  },
  {
   "cell_type": "markdown",
   "metadata": {},
   "source": [
    "# Identifying and Estimating a Structural Equation\n",
    "---"
   ]
  },
  {
   "cell_type": "markdown",
   "metadata": {},
   "source": [
    "**PODEMOS APLICAR 2SLS PARA ESTIMAR EQUAÇÕES SIMULTÂNEAS**\n",
    "\n"
   ]
  },
  {
   "cell_type": "markdown",
   "metadata": {},
   "source": [
    "Para podermos estimar as formas estruturais do modelos, precisamos solucionar o problema da identificação:\n",
    "\n",
    "> **A primeira forma estrutural precisa de uma variável exógena que não está contida na segunda forma estrutural, e vice-versa, para que essa variável possa ser usada como instrumento para estimar a segunda forma estrutural.**\n",
    "\n",
    "    - Novamente, isso vale para a lógica contrária, saindo da segunda para a primeira forma estrutural."
   ]
  },
  {
   "cell_type": "markdown",
   "metadata": {},
   "source": [
    "## Condição de ranking e condição de identificação"
   ]
  },
  {
   "cell_type": "markdown",
   "metadata": {},
   "source": [
    "**Condição de identificação** (fraca): para usarmos variáveis instrumentais, é preciso que pelo menos uma variável exógena e não correlacionada com o termo do erro, seja exluída da forma estrutural do modelo.\n",
    "\n",
    "**Condição de rank (posto)** (forte): para aplicarmos variáveis instrumentais, é preciso que pelo menos uma variável exógena omitida na primeira forma estrutural apareça na segunda forma estrutural com o coeficiente populacional diferente de zero, ou seja, $\\beta_j \\neq 0$."
   ]
  },
  {
   "cell_type": "markdown",
   "metadata": {},
   "source": [
    "Caso as condições se verifiquem e a equação seja identificável, podemos aplicar 2SLS: as variáveis instrumentais consistirão nas variáveis exógenas que estão em uma das formas estruturais, mas que não estão contidas na outra."
   ]
  },
  {
   "cell_type": "markdown",
   "metadata": {},
   "source": [
    "## Example 16.5: Labor Supply of Married, Working Women"
   ]
  },
  {
   "cell_type": "code",
   "execution_count": 47,
   "metadata": {},
   "outputs": [
    {
     "data": {
      "text/html": [
       "<div>\n",
       "<style scoped>\n",
       "    .dataframe tbody tr th:only-of-type {\n",
       "        vertical-align: middle;\n",
       "    }\n",
       "\n",
       "    .dataframe tbody tr th {\n",
       "        vertical-align: top;\n",
       "    }\n",
       "\n",
       "    .dataframe thead th {\n",
       "        text-align: right;\n",
       "    }\n",
       "</style>\n",
       "<table border=\"1\" class=\"dataframe\">\n",
       "  <thead>\n",
       "    <tr style=\"text-align: right;\">\n",
       "      <th></th>\n",
       "      <th>inlf</th>\n",
       "      <th>hours</th>\n",
       "      <th>kidslt6</th>\n",
       "      <th>kidsge6</th>\n",
       "      <th>age</th>\n",
       "      <th>educ</th>\n",
       "      <th>wage</th>\n",
       "      <th>repwage</th>\n",
       "      <th>hushrs</th>\n",
       "      <th>husage</th>\n",
       "      <th>...</th>\n",
       "      <th>faminc</th>\n",
       "      <th>mtr</th>\n",
       "      <th>motheduc</th>\n",
       "      <th>fatheduc</th>\n",
       "      <th>unem</th>\n",
       "      <th>city</th>\n",
       "      <th>exper</th>\n",
       "      <th>nwifeinc</th>\n",
       "      <th>lwage</th>\n",
       "      <th>expersq</th>\n",
       "    </tr>\n",
       "  </thead>\n",
       "  <tbody>\n",
       "    <tr>\n",
       "      <th>0</th>\n",
       "      <td>1</td>\n",
       "      <td>1610</td>\n",
       "      <td>1</td>\n",
       "      <td>0</td>\n",
       "      <td>32</td>\n",
       "      <td>12</td>\n",
       "      <td>3.3540</td>\n",
       "      <td>2.65</td>\n",
       "      <td>2708</td>\n",
       "      <td>34</td>\n",
       "      <td>...</td>\n",
       "      <td>16310.0</td>\n",
       "      <td>0.7215</td>\n",
       "      <td>12</td>\n",
       "      <td>7</td>\n",
       "      <td>5.0</td>\n",
       "      <td>0</td>\n",
       "      <td>14</td>\n",
       "      <td>10.910060</td>\n",
       "      <td>1.210154</td>\n",
       "      <td>196</td>\n",
       "    </tr>\n",
       "    <tr>\n",
       "      <th>1</th>\n",
       "      <td>1</td>\n",
       "      <td>1656</td>\n",
       "      <td>0</td>\n",
       "      <td>2</td>\n",
       "      <td>30</td>\n",
       "      <td>12</td>\n",
       "      <td>1.3889</td>\n",
       "      <td>2.65</td>\n",
       "      <td>2310</td>\n",
       "      <td>30</td>\n",
       "      <td>...</td>\n",
       "      <td>21800.0</td>\n",
       "      <td>0.6615</td>\n",
       "      <td>7</td>\n",
       "      <td>7</td>\n",
       "      <td>11.0</td>\n",
       "      <td>1</td>\n",
       "      <td>5</td>\n",
       "      <td>19.499981</td>\n",
       "      <td>0.328512</td>\n",
       "      <td>25</td>\n",
       "    </tr>\n",
       "    <tr>\n",
       "      <th>2</th>\n",
       "      <td>1</td>\n",
       "      <td>1980</td>\n",
       "      <td>1</td>\n",
       "      <td>3</td>\n",
       "      <td>35</td>\n",
       "      <td>12</td>\n",
       "      <td>4.5455</td>\n",
       "      <td>4.04</td>\n",
       "      <td>3072</td>\n",
       "      <td>40</td>\n",
       "      <td>...</td>\n",
       "      <td>21040.0</td>\n",
       "      <td>0.6915</td>\n",
       "      <td>12</td>\n",
       "      <td>7</td>\n",
       "      <td>5.0</td>\n",
       "      <td>0</td>\n",
       "      <td>15</td>\n",
       "      <td>12.039910</td>\n",
       "      <td>1.514138</td>\n",
       "      <td>225</td>\n",
       "    </tr>\n",
       "    <tr>\n",
       "      <th>3</th>\n",
       "      <td>1</td>\n",
       "      <td>456</td>\n",
       "      <td>0</td>\n",
       "      <td>3</td>\n",
       "      <td>34</td>\n",
       "      <td>12</td>\n",
       "      <td>1.0965</td>\n",
       "      <td>3.25</td>\n",
       "      <td>1920</td>\n",
       "      <td>53</td>\n",
       "      <td>...</td>\n",
       "      <td>7300.0</td>\n",
       "      <td>0.7815</td>\n",
       "      <td>7</td>\n",
       "      <td>7</td>\n",
       "      <td>5.0</td>\n",
       "      <td>0</td>\n",
       "      <td>6</td>\n",
       "      <td>6.799996</td>\n",
       "      <td>0.092123</td>\n",
       "      <td>36</td>\n",
       "    </tr>\n",
       "    <tr>\n",
       "      <th>4</th>\n",
       "      <td>1</td>\n",
       "      <td>1568</td>\n",
       "      <td>1</td>\n",
       "      <td>2</td>\n",
       "      <td>31</td>\n",
       "      <td>14</td>\n",
       "      <td>4.5918</td>\n",
       "      <td>3.60</td>\n",
       "      <td>2000</td>\n",
       "      <td>32</td>\n",
       "      <td>...</td>\n",
       "      <td>27300.0</td>\n",
       "      <td>0.6215</td>\n",
       "      <td>12</td>\n",
       "      <td>14</td>\n",
       "      <td>9.5</td>\n",
       "      <td>1</td>\n",
       "      <td>7</td>\n",
       "      <td>20.100058</td>\n",
       "      <td>1.524272</td>\n",
       "      <td>49</td>\n",
       "    </tr>\n",
       "  </tbody>\n",
       "</table>\n",
       "<p>5 rows × 22 columns</p>\n",
       "</div>"
      ],
      "text/plain": [
       "   inlf  hours  kidslt6  kidsge6  age  educ    wage  repwage  hushrs  husage  \\\n",
       "0     1   1610        1        0   32    12  3.3540     2.65    2708      34   \n",
       "1     1   1656        0        2   30    12  1.3889     2.65    2310      30   \n",
       "2     1   1980        1        3   35    12  4.5455     4.04    3072      40   \n",
       "3     1    456        0        3   34    12  1.0965     3.25    1920      53   \n",
       "4     1   1568        1        2   31    14  4.5918     3.60    2000      32   \n",
       "\n",
       "   ...   faminc     mtr  motheduc  fatheduc  unem  city  exper   nwifeinc  \\\n",
       "0  ...  16310.0  0.7215        12         7   5.0     0     14  10.910060   \n",
       "1  ...  21800.0  0.6615         7         7  11.0     1      5  19.499981   \n",
       "2  ...  21040.0  0.6915        12         7   5.0     0     15  12.039910   \n",
       "3  ...   7300.0  0.7815         7         7   5.0     0      6   6.799996   \n",
       "4  ...  27300.0  0.6215        12        14   9.5     1      7  20.100058   \n",
       "\n",
       "      lwage  expersq  \n",
       "0  1.210154      196  \n",
       "1  0.328512       25  \n",
       "2  1.514138      225  \n",
       "3  0.092123       36  \n",
       "4  1.524272       49  \n",
       "\n",
       "[5 rows x 22 columns]"
      ]
     },
     "execution_count": 47,
     "metadata": {},
     "output_type": "execute_result"
    }
   ],
   "source": [
    "mroz = woo.data('mroz')\n",
    "\n",
    "# Retirando valores não observados da amostra\n",
    "\n",
    "mroz.dropna(subset=['lwage'], inplace=True)\n",
    "mroz.head()"
   ]
  },
  {
   "cell_type": "markdown",
   "metadata": {},
   "source": [
    "Regressões com IV de ambas as formas estruturais"
   ]
  },
  {
   "cell_type": "code",
   "execution_count": 48,
   "metadata": {},
   "outputs": [
    {
     "name": "stdout",
     "output_type": "stream",
     "text": [
      "                          IV-2SLS Estimation Summary                          \n",
      "==============================================================================\n",
      "Dep. Variable:                  hours   R-squared:                     -2.0076\n",
      "Estimator:                    IV-2SLS   Adj. R-squared:                -2.0433\n",
      "No. Observations:                 428   F-statistic:                    3.4410\n",
      "Date:                Mon, Jul 04 2022   P-value (F-stat)                0.0046\n",
      "Time:                        15:46:51   Distribution:                 F(5,422)\n",
      "Cov. Estimator:            unadjusted                                         \n",
      "                                                                              \n",
      "                             Parameter Estimates                              \n",
      "==============================================================================\n",
      "            Parameter  Std. Err.     T-stat    P-value    Lower CI    Upper CI\n",
      "------------------------------------------------------------------------------\n",
      "Intercept      2225.7     574.56     3.8737     0.0001      1096.3      3355.0\n",
      "age           -7.8061     9.3780    -0.8324     0.4057     -26.240      10.627\n",
      "educ          -183.75     59.100    -3.1092     0.0020     -299.92     -67.585\n",
      "kidslt6       -198.15     182.93    -1.0832     0.2793     -557.72      161.41\n",
      "nwifeinc      -10.170     6.6147    -1.5374     0.1249     -23.172      2.8324\n",
      "lwage          1639.6     470.58     3.4841     0.0005      714.59      2564.5\n",
      "==============================================================================\n",
      "\n",
      "Endogenous: lwage\n",
      "Instruments: exper, expersq\n",
      "Unadjusted Covariance (Homoskedastic)\n",
      "Debiased: True\n",
      "                          IV-2SLS Estimation Summary                          \n",
      "==============================================================================\n",
      "Dep. Variable:                  lwage   R-squared:                      0.1257\n",
      "Estimator:                    IV-2SLS   Adj. R-squared:                 0.1174\n",
      "No. Observations:                 428   F-statistic:                    19.028\n",
      "Date:                Mon, Jul 04 2022   P-value (F-stat)                0.0000\n",
      "Time:                        15:46:51   Distribution:                 F(4,423)\n",
      "Cov. Estimator:            unadjusted                                         \n",
      "                                                                              \n",
      "                             Parameter Estimates                              \n",
      "==============================================================================\n",
      "            Parameter  Std. Err.     T-stat    P-value    Lower CI    Upper CI\n",
      "------------------------------------------------------------------------------\n",
      "Intercept     -0.6557     0.3378    -1.9412     0.0529     -1.3197      0.0082\n",
      "educ           0.1103     0.0155     7.1069     0.0000      0.0798      0.1408\n",
      "exper          0.0346     0.0195     1.7742     0.0767     -0.0037      0.0729\n",
      "expersq       -0.0007     0.0005    -1.5543     0.1209     -0.0016      0.0002\n",
      "hours          0.0001     0.0003     0.4945     0.6212     -0.0004      0.0006\n",
      "==============================================================================\n",
      "\n",
      "Endogenous: hours\n",
      "Instruments: age, kidslt6, nwifeinc\n",
      "Unadjusted Covariance (Homoskedastic)\n",
      "Debiased: True\n"
     ]
    }
   ],
   "source": [
    "reg_iv165 = iv.IV2SLS.from_formula('hours ~ 1 + educ + age + kidslt6 + nwifeinc + [lwage ~ exper + expersq]', data=mroz)\n",
    "results_reg_iv165 = reg_iv165.fit(cov_type='unadjusted', debiased=True)\n",
    "\n",
    "reg2_iv165 = iv.IV2SLS.from_formula('lwage ~ 1 + educ + exper + expersq + [hours ~ age + kidslt6 + nwifeinc]', data=mroz)\n",
    "results_reg2_iv165 = reg2_iv165.fit(cov_type='unadjusted', debiased=True)\n",
    "\n",
    "print(results_reg_iv165.summary, results_reg2_iv165.summary, sep='\\n')"
   ]
  },
  {
   "cell_type": "markdown",
   "metadata": {},
   "source": [
    "Montando a tabela para printar os resultados"
   ]
  },
  {
   "cell_type": "code",
   "execution_count": 49,
   "metadata": {},
   "outputs": [
    {
     "data": {
      "text/plain": [
       "\"table_reg1 = pd.DataFrame({\\n    'b':round(results_reg_iv165.params, 4),\\n    'se':round(results_reg_iv165.std_errors, 4),\\n    't':round(results_reg_iv165.tstats, 4),\\n    'p-value':round(results_reg_iv165.pvalues, 4)\\n})\\n\\ntable_reg2 = pd.DataFrame({\\n    'b':round(results_reg2_iv165.params, 4),\\n    'se':round(results_reg2_iv165.std_errors, 4),\\n    't':round(results_reg2_iv165.tstats, 4),\\n    'p-value':round(results_reg2_iv165.pvalues, 4)\\n})\\n\\nprint(table_reg1, table_reg2, sep='\\n\\n')\""
      ]
     },
     "execution_count": 49,
     "metadata": {},
     "output_type": "execute_result"
    }
   ],
   "source": [
    "'''table_reg1 = pd.DataFrame({\n",
    "    'b':round(results_reg_iv165.params, 4),\n",
    "    'se':round(results_reg_iv165.std_errors, 4),\n",
    "    't':round(results_reg_iv165.tstats, 4),\n",
    "    'p-value':round(results_reg_iv165.pvalues, 4)\n",
    "})\n",
    "\n",
    "table_reg2 = pd.DataFrame({\n",
    "    'b':round(results_reg2_iv165.params, 4),\n",
    "    'se':round(results_reg2_iv165.std_errors, 4),\n",
    "    't':round(results_reg2_iv165.tstats, 4),\n",
    "    'p-value':round(results_reg2_iv165.pvalues, 4)\n",
    "})\n",
    "\n",
    "print(table_reg1, table_reg2, sep='\\n\\n')'''"
   ]
  },
  {
   "cell_type": "code",
   "execution_count": 50,
   "metadata": {},
   "outputs": [
    {
     "name": "stdout",
     "output_type": "stream",
     "text": [
      "-0.9037694117058851\n"
     ]
    }
   ],
   "source": [
    "cor_u1u2 = np.corrcoef(results_reg_iv165.resids, results_reg2_iv165.resids)[0,1] # pegando apenas a correlação entre o erro da \n",
    "                                                                                 # primeira forma estrutural com a segunda\n",
    "print(cor_u1u2)"
   ]
  },
  {
   "cell_type": "markdown",
   "metadata": {},
   "source": [
    "## Example 16.6: Inflation and Openness"
   ]
  },
  {
   "cell_type": "code",
   "execution_count": 51,
   "metadata": {},
   "outputs": [
    {
     "name": "stdout",
     "output_type": "stream",
     "text": [
      "  J.M. Wooldridge (2016) Introductory Econometrics: A Modern Approach,\n",
      "  Cengage Learning, 6th edition.\n",
      "\n",
      "  401k       401ksubs    admnrev       affairs     airfare\n",
      "  alcohol    apple       approval      athlet1     athlet2\n",
      "  attend     audit       barium        beauty      benefits\n",
      "  beveridge  big9salary  bwght         bwght2      campus\n",
      "  card       catholic    cement        census2000  ceosal1\n",
      "  ceosal2    charity     consump       corn        countymurders\n",
      "  cps78_85   cps91       crime1        crime2      crime3\n",
      "  crime4     discrim     driving       earns       econmath\n",
      "  elem94_95  engin       expendshares  ezanders    ezunem\n",
      "  fair       fertil1     fertil2       fertil3     fish\n",
      "  fringe     gpa1        gpa2          gpa3        happiness\n",
      "  hprice1    hprice2     hprice3       hseinv      htv\n",
      "  infmrt     injury      intdef        intqrt      inven\n",
      "  jtrain     jtrain2     jtrain3       kielmc      lawsch85\n",
      "  loanapp    lowbrth     mathpnl       meap00_01   meap01\n",
      "  meap93     meapsingle  minwage       mlb1        mroz\n",
      "  murder     nbasal      nyse          okun        openness\n",
      "  pension    phillips    pntsprd       prison      prminwge\n",
      "  rdchem     rdtelec     recid         rental      return\n",
      "  saving     sleep75     slp75_81      smoke       traffic1\n",
      "  traffic2   twoyear     volat         vote1       vote2\n",
      "  voucher    wage1       wage2         wagepan     wageprc\n",
      "  wine\n"
     ]
    }
   ],
   "source": [
    "woo.data()"
   ]
  },
  {
   "cell_type": "code",
   "execution_count": 52,
   "metadata": {},
   "outputs": [
    {
     "data": {
      "text/html": [
       "<div>\n",
       "<style scoped>\n",
       "    .dataframe tbody tr th:only-of-type {\n",
       "        vertical-align: middle;\n",
       "    }\n",
       "\n",
       "    .dataframe tbody tr th {\n",
       "        vertical-align: top;\n",
       "    }\n",
       "\n",
       "    .dataframe thead th {\n",
       "        text-align: right;\n",
       "    }\n",
       "</style>\n",
       "<table border=\"1\" class=\"dataframe\">\n",
       "  <thead>\n",
       "    <tr style=\"text-align: right;\">\n",
       "      <th></th>\n",
       "      <th>open</th>\n",
       "      <th>inf</th>\n",
       "      <th>pcinc</th>\n",
       "      <th>land</th>\n",
       "      <th>oil</th>\n",
       "      <th>good</th>\n",
       "      <th>lpcinc</th>\n",
       "      <th>lland</th>\n",
       "      <th>lopen</th>\n",
       "      <th>linf</th>\n",
       "      <th>opendec</th>\n",
       "      <th>linfdec</th>\n",
       "    </tr>\n",
       "  </thead>\n",
       "  <tbody>\n",
       "    <tr>\n",
       "      <th>0</th>\n",
       "      <td>31.400000</td>\n",
       "      <td>9.9</td>\n",
       "      <td>1998</td>\n",
       "      <td>919595.0</td>\n",
       "      <td>0</td>\n",
       "      <td>0</td>\n",
       "      <td>7.599902</td>\n",
       "      <td>13.731688</td>\n",
       "      <td>3.446808</td>\n",
       "      <td>2.292535</td>\n",
       "      <td>0.314</td>\n",
       "      <td>-2.312635</td>\n",
       "    </tr>\n",
       "    <tr>\n",
       "      <th>1</th>\n",
       "      <td>9.400000</td>\n",
       "      <td>117.0</td>\n",
       "      <td>4342</td>\n",
       "      <td>1072067.0</td>\n",
       "      <td>0</td>\n",
       "      <td>1</td>\n",
       "      <td>8.376090</td>\n",
       "      <td>13.885099</td>\n",
       "      <td>2.240710</td>\n",
       "      <td>4.762174</td>\n",
       "      <td>0.094</td>\n",
       "      <td>0.157004</td>\n",
       "    </tr>\n",
       "    <tr>\n",
       "      <th>2</th>\n",
       "      <td>16.700001</td>\n",
       "      <td>9.5</td>\n",
       "      <td>8349</td>\n",
       "      <td>2966150.0</td>\n",
       "      <td>0</td>\n",
       "      <td>1</td>\n",
       "      <td>9.029897</td>\n",
       "      <td>14.902776</td>\n",
       "      <td>2.815409</td>\n",
       "      <td>2.251292</td>\n",
       "      <td>0.167</td>\n",
       "      <td>-2.353878</td>\n",
       "    </tr>\n",
       "    <tr>\n",
       "      <th>3</th>\n",
       "      <td>35.599998</td>\n",
       "      <td>5.0</td>\n",
       "      <td>8230</td>\n",
       "      <td>32375.0</td>\n",
       "      <td>0</td>\n",
       "      <td>1</td>\n",
       "      <td>9.015541</td>\n",
       "      <td>10.385141</td>\n",
       "      <td>3.572345</td>\n",
       "      <td>1.609438</td>\n",
       "      <td>0.356</td>\n",
       "      <td>-2.995732</td>\n",
       "    </tr>\n",
       "    <tr>\n",
       "      <th>4</th>\n",
       "      <td>91.000000</td>\n",
       "      <td>4.8</td>\n",
       "      <td>9185</td>\n",
       "      <td>240.0</td>\n",
       "      <td>1</td>\n",
       "      <td>0</td>\n",
       "      <td>9.125327</td>\n",
       "      <td>5.480639</td>\n",
       "      <td>4.510859</td>\n",
       "      <td>1.568616</td>\n",
       "      <td>0.910</td>\n",
       "      <td>-3.036554</td>\n",
       "    </tr>\n",
       "  </tbody>\n",
       "</table>\n",
       "</div>"
      ],
      "text/plain": [
       "        open    inf  pcinc       land  oil  good    lpcinc      lland  \\\n",
       "0  31.400000    9.9   1998   919595.0    0     0  7.599902  13.731688   \n",
       "1   9.400000  117.0   4342  1072067.0    0     1  8.376090  13.885099   \n",
       "2  16.700001    9.5   8349  2966150.0    0     1  9.029897  14.902776   \n",
       "3  35.599998    5.0   8230    32375.0    0     1  9.015541  10.385141   \n",
       "4  91.000000    4.8   9185      240.0    1     0  9.125327   5.480639   \n",
       "\n",
       "      lopen      linf  opendec   linfdec  \n",
       "0  3.446808  2.292535    0.314 -2.312635  \n",
       "1  2.240710  4.762174    0.094  0.157004  \n",
       "2  2.815409  2.251292    0.167 -2.353878  \n",
       "3  3.572345  1.609438    0.356 -2.995732  \n",
       "4  4.510859  1.568616    0.910 -3.036554  "
      ]
     },
     "execution_count": 52,
     "metadata": {},
     "output_type": "execute_result"
    }
   ],
   "source": [
    "openness = woo.data('openness')\n",
    "openness.head()"
   ]
  },
  {
   "cell_type": "code",
   "execution_count": 53,
   "metadata": {},
   "outputs": [
    {
     "name": "stdout",
     "output_type": "stream",
     "text": [
      "                            OLS Regression Results                            \n",
      "==============================================================================\n",
      "Dep. Variable:                   open   R-squared:                       0.449\n",
      "Model:                            OLS   Adj. R-squared:                  0.439\n",
      "Method:                 Least Squares   F-statistic:                     45.17\n",
      "Date:                Mon, 04 Jul 2022   Prob (F-statistic):           4.45e-15\n",
      "Time:                        15:46:53   Log-Likelihood:                -488.44\n",
      "No. Observations:                 114   AIC:                             982.9\n",
      "Df Residuals:                     111   BIC:                             991.1\n",
      "Df Model:                           2                                         \n",
      "Covariance Type:            nonrobust                                         \n",
      "=================================================================================\n",
      "                    coef    std err          t      P>|t|      [0.025      0.975]\n",
      "---------------------------------------------------------------------------------\n",
      "Intercept       117.0845     15.848      7.388      0.000      85.680     148.489\n",
      "np.log(pcinc)     0.5465      1.493      0.366      0.715      -2.412       3.505\n",
      "lland            -7.5671      0.814     -9.294      0.000      -9.181      -5.954\n",
      "==============================================================================\n",
      "Omnibus:                       56.815   Durbin-Watson:                   2.147\n",
      "Prob(Omnibus):                  0.000   Jarque-Bera (JB):              197.784\n",
      "Skew:                           1.783   Prob(JB):                     1.13e-43\n",
      "Kurtosis:                       8.377   Cond. No.                         130.\n",
      "==============================================================================\n",
      "\n",
      "Notes:\n",
      "[1] Standard Errors assume that the covariance matrix of the errors is correctly specified.\n"
     ]
    }
   ],
   "source": [
    "reg_ols166 = smf.ols('open ~ np.log(pcinc) + lland', data=openness)\n",
    "results_reg_ols166 = reg_ols166.fit()\n",
    "print(results_reg_ols166.summary())"
   ]
  },
  {
   "cell_type": "code",
   "execution_count": 54,
   "metadata": {},
   "outputs": [
    {
     "name": "stdout",
     "output_type": "stream",
     "text": [
      "                          IV-2SLS Estimation Summary                          \n",
      "==============================================================================\n",
      "Dep. Variable:                    inf   R-squared:                      0.0309\n",
      "Estimator:                    IV-2SLS   Adj. R-squared:                 0.0134\n",
      "No. Observations:                 114   F-statistic:                    2.7900\n",
      "Date:                Mon, Jul 04 2022   P-value (F-stat)                0.0657\n",
      "Time:                        15:46:53   Distribution:                 F(2,111)\n",
      "Cov. Estimator:            unadjusted                                         \n",
      "                                                                              \n",
      "                               Parameter Estimates                               \n",
      "=================================================================================\n",
      "               Parameter  Std. Err.     T-stat    P-value    Lower CI    Upper CI\n",
      "---------------------------------------------------------------------------------\n",
      "Intercept         26.899     15.401     1.7466     0.0835     -3.6192      57.418\n",
      "np.log(pcinc)     0.3758     2.0151     0.1865     0.8524     -3.6172      4.3688\n",
      "open             -0.3375     0.1441    -2.3417     0.0210     -0.6231     -0.0519\n",
      "=================================================================================\n",
      "\n",
      "Endogenous: open\n",
      "Instruments: lland\n",
      "Unadjusted Covariance (Homoskedastic)\n",
      "Debiased: True\n"
     ]
    }
   ],
   "source": [
    "reg_iv166 = iv.IV2SLS.from_formula('inf ~ 1 + np.log(pcinc) + [open ~ lland]', data=openness)\n",
    "results_reg_iv166 = reg_iv166.fit(cov_type='unadjusted', debiased=True)\n",
    "print(results_reg_iv166.summary)"
   ]
  },
  {
   "cell_type": "markdown",
   "metadata": {},
   "source": [
    "# Systems with More Than Two Equations\n",
    "---"
   ]
  },
  {
   "cell_type": "markdown",
   "metadata": {},
   "source": [
    "Em sistemas simultaneos com mais de duas equações, se conseguirmos identificar as equações, podemos estimar também por meio dos Mínimos Quadrados em dois Estágios (2SLS)."
   ]
  },
  {
   "cell_type": "markdown",
   "metadata": {},
   "source": [
    "> ***Condição de ordem (o número de variáveis exlcuídas/omitidas deve ser pelo menos o mesmo do número de variáveis endógenas) é necessária, mas não suficiente!!!***\n",
    "\n",
    "Há a necessidades dos coeficientes das variáveis exluídas de uma equação, e que aparecem em outras partes do sistema, tenha coeficiente populacional diferente de zero: $\\beta_{ij} \\neq 0$\n",
    "\n",
    "Ou seja, não depende apenas da existência de variáveis excluídas em outras equações do sistema, mas também dos valores dos parâmetros dessas variáveis."
   ]
  },
  {
   "cell_type": "markdown",
   "metadata": {},
   "source": [
    "> Para aplicar a condição de posto (rank), precisamos de uma álgebra um pouco mais exaustiva, o que significa que em muitas aplicações, pesquisadores assumem por intuição que a satisfação da condição de ordem já é suficiente para considerarmos as equações como identificadas."
   ]
  },
  {
   "cell_type": "markdown",
   "metadata": {},
   "source": [
    "A nomenclatura de equações **sobreidentificadas**, **exatamente identificada** e **subidentificada/não identificada** aplica-se aos sistemas de equações simultâneas:\n",
    "\n",
    "1. Número de instrumentos maior do que o número de variáveis exógenas excluídas;\n",
    "\n",
    "2. Número de instrumentos igual ao número de variáveis exógenas excluídas;\n",
    "\n",
    "3. Número de instrumentos menor do que o número de variáveis exógenas excluídas.\n",
    "\n",
    "**Apenas no último caso não vamos conseguir identificar e nem estimar a equação.**"
   ]
  },
  {
   "cell_type": "markdown",
   "metadata": {},
   "source": [
    "# Simultaneous Equations Models with Time Series"
   ]
  },
  {
   "cell_type": "markdown",
   "metadata": {},
   "source": [
    "> Um das principais e primeiras aplicações dos sistemas de equações simultâneas foi usada para descrever a economia como um todo, por meio da interpretação básica do modelo Keynesiano."
   ]
  },
  {
   "cell_type": "markdown",
   "metadata": {},
   "source": [
    "Quando podemos coletar dados referentes à séries temporais, podemos estimar as equações simultâneas adicionando lags de variáveis endógenas como instrumentos. Contudo, para que seja possível realizar os trabalhos de inferência, temos que contar que as variáveis tenham **dependência fraca em relação aos lags**, o que geralmente pode não acontecer. "
   ]
  },
  {
   "cell_type": "markdown",
   "metadata": {},
   "source": [
    "> Exemplo do Modelo Keynesiano citado acima!"
   ]
  },
  {
   "cell_type": "markdown",
   "metadata": {},
   "source": [
    "Ainda, vale lembrar que com séries temporais, podemos contar com sazonalidade, persistência e tendências.\n",
    "\n",
    "> Mas esses problemas não tornam os SEM inapropriados para lidar com séries temporais."
   ]
  },
  {
   "cell_type": "markdown",
   "metadata": {},
   "source": [
    "Uma das soluções para estimar SEMs com séries temporais que possuem essas características é a definição das equações com primeiras, segundas ou demais diferenças."
   ]
  },
  {
   "cell_type": "markdown",
   "metadata": {},
   "source": [
    "Ainda, o uso de **dados desagregados** pode auxiliar na estimação dessas equações em que achar instrumentos se torna uma tarefa complicada devido a endogeneidade. "
   ]
  },
  {
   "cell_type": "markdown",
   "metadata": {},
   "source": [
    "## Example 16.7: Testing the Permanent Income Hypothesis"
   ]
  },
  {
   "cell_type": "code",
   "execution_count": 55,
   "metadata": {},
   "outputs": [
    {
     "data": {
      "text/html": [
       "<div>\n",
       "<style scoped>\n",
       "    .dataframe tbody tr th:only-of-type {\n",
       "        vertical-align: middle;\n",
       "    }\n",
       "\n",
       "    .dataframe tbody tr th {\n",
       "        vertical-align: top;\n",
       "    }\n",
       "\n",
       "    .dataframe thead th {\n",
       "        text-align: right;\n",
       "    }\n",
       "</style>\n",
       "<table border=\"1\" class=\"dataframe\">\n",
       "  <thead>\n",
       "    <tr style=\"text-align: right;\">\n",
       "      <th></th>\n",
       "      <th>year</th>\n",
       "      <th>i3</th>\n",
       "      <th>inf</th>\n",
       "      <th>rdisp</th>\n",
       "      <th>rnondc</th>\n",
       "      <th>rserv</th>\n",
       "      <th>pop</th>\n",
       "      <th>y</th>\n",
       "      <th>rcons</th>\n",
       "      <th>c</th>\n",
       "      <th>...</th>\n",
       "      <th>gy</th>\n",
       "      <th>gc_1</th>\n",
       "      <th>gy_1</th>\n",
       "      <th>r3_1</th>\n",
       "      <th>lc_ly</th>\n",
       "      <th>lc_ly_1</th>\n",
       "      <th>gc_2</th>\n",
       "      <th>gy_2</th>\n",
       "      <th>r3_2</th>\n",
       "      <th>lc_ly_2</th>\n",
       "    </tr>\n",
       "  </thead>\n",
       "  <tbody>\n",
       "    <tr>\n",
       "      <th>0</th>\n",
       "      <td>1959</td>\n",
       "      <td>3.41</td>\n",
       "      <td>0.7</td>\n",
       "      <td>1530.099976</td>\n",
       "      <td>606.299988</td>\n",
       "      <td>687.400024</td>\n",
       "      <td>177830.0</td>\n",
       "      <td>8604.285156</td>\n",
       "      <td>1293.699951</td>\n",
       "      <td>7274.925293</td>\n",
       "      <td>...</td>\n",
       "      <td>NaN</td>\n",
       "      <td>NaN</td>\n",
       "      <td>NaN</td>\n",
       "      <td>NaN</td>\n",
       "      <td>-0.167827</td>\n",
       "      <td>NaN</td>\n",
       "      <td>NaN</td>\n",
       "      <td>NaN</td>\n",
       "      <td>NaN</td>\n",
       "      <td>NaN</td>\n",
       "    </tr>\n",
       "    <tr>\n",
       "      <th>1</th>\n",
       "      <td>1960</td>\n",
       "      <td>2.93</td>\n",
       "      <td>1.7</td>\n",
       "      <td>1565.400024</td>\n",
       "      <td>615.400024</td>\n",
       "      <td>717.400024</td>\n",
       "      <td>180671.0</td>\n",
       "      <td>8664.368164</td>\n",
       "      <td>1332.800049</td>\n",
       "      <td>7376.945312</td>\n",
       "      <td>...</td>\n",
       "      <td>0.006959</td>\n",
       "      <td>NaN</td>\n",
       "      <td>NaN</td>\n",
       "      <td>2.71</td>\n",
       "      <td>-0.160860</td>\n",
       "      <td>-0.167827</td>\n",
       "      <td>NaN</td>\n",
       "      <td>NaN</td>\n",
       "      <td>NaN</td>\n",
       "      <td>NaN</td>\n",
       "    </tr>\n",
       "    <tr>\n",
       "      <th>2</th>\n",
       "      <td>1961</td>\n",
       "      <td>2.38</td>\n",
       "      <td>1.0</td>\n",
       "      <td>1615.800049</td>\n",
       "      <td>626.700012</td>\n",
       "      <td>746.500000</td>\n",
       "      <td>183691.0</td>\n",
       "      <td>8796.293945</td>\n",
       "      <td>1373.199951</td>\n",
       "      <td>7475.597168</td>\n",
       "      <td>...</td>\n",
       "      <td>0.015111</td>\n",
       "      <td>0.013926</td>\n",
       "      <td>0.006959</td>\n",
       "      <td>1.23</td>\n",
       "      <td>-0.162686</td>\n",
       "      <td>-0.160860</td>\n",
       "      <td>NaN</td>\n",
       "      <td>NaN</td>\n",
       "      <td>2.71</td>\n",
       "      <td>-0.167827</td>\n",
       "    </tr>\n",
       "    <tr>\n",
       "      <th>3</th>\n",
       "      <td>1962</td>\n",
       "      <td>2.78</td>\n",
       "      <td>1.0</td>\n",
       "      <td>1693.699951</td>\n",
       "      <td>646.500000</td>\n",
       "      <td>783.400024</td>\n",
       "      <td>186538.0</td>\n",
       "      <td>9079.651367</td>\n",
       "      <td>1429.900024</td>\n",
       "      <td>7665.462402</td>\n",
       "      <td>...</td>\n",
       "      <td>0.031706</td>\n",
       "      <td>0.013285</td>\n",
       "      <td>0.015111</td>\n",
       "      <td>1.38</td>\n",
       "      <td>-0.169312</td>\n",
       "      <td>-0.162686</td>\n",
       "      <td>0.013926</td>\n",
       "      <td>0.006959</td>\n",
       "      <td>1.23</td>\n",
       "      <td>-0.160860</td>\n",
       "    </tr>\n",
       "    <tr>\n",
       "      <th>4</th>\n",
       "      <td>1963</td>\n",
       "      <td>3.16</td>\n",
       "      <td>1.3</td>\n",
       "      <td>1755.500000</td>\n",
       "      <td>660.000000</td>\n",
       "      <td>818.700012</td>\n",
       "      <td>189242.0</td>\n",
       "      <td>9276.482422</td>\n",
       "      <td>1478.699951</td>\n",
       "      <td>7813.804199</td>\n",
       "      <td>...</td>\n",
       "      <td>0.021446</td>\n",
       "      <td>0.025081</td>\n",
       "      <td>0.031706</td>\n",
       "      <td>1.78</td>\n",
       "      <td>-0.171591</td>\n",
       "      <td>-0.169312</td>\n",
       "      <td>0.013285</td>\n",
       "      <td>0.015111</td>\n",
       "      <td>1.38</td>\n",
       "      <td>-0.162686</td>\n",
       "    </tr>\n",
       "  </tbody>\n",
       "</table>\n",
       "<p>5 rows × 24 columns</p>\n",
       "</div>"
      ],
      "text/plain": [
       "   year    i3  inf        rdisp      rnondc       rserv       pop  \\\n",
       "0  1959  3.41  0.7  1530.099976  606.299988  687.400024  177830.0   \n",
       "1  1960  2.93  1.7  1565.400024  615.400024  717.400024  180671.0   \n",
       "2  1961  2.38  1.0  1615.800049  626.700012  746.500000  183691.0   \n",
       "3  1962  2.78  1.0  1693.699951  646.500000  783.400024  186538.0   \n",
       "4  1963  3.16  1.3  1755.500000  660.000000  818.700012  189242.0   \n",
       "\n",
       "             y        rcons            c  ...        gy      gc_1      gy_1  \\\n",
       "0  8604.285156  1293.699951  7274.925293  ...       NaN       NaN       NaN   \n",
       "1  8664.368164  1332.800049  7376.945312  ...  0.006959       NaN       NaN   \n",
       "2  8796.293945  1373.199951  7475.597168  ...  0.015111  0.013926  0.006959   \n",
       "3  9079.651367  1429.900024  7665.462402  ...  0.031706  0.013285  0.015111   \n",
       "4  9276.482422  1478.699951  7813.804199  ...  0.021446  0.025081  0.031706   \n",
       "\n",
       "   r3_1     lc_ly   lc_ly_1      gc_2      gy_2  r3_2   lc_ly_2  \n",
       "0   NaN -0.167827       NaN       NaN       NaN   NaN       NaN  \n",
       "1  2.71 -0.160860 -0.167827       NaN       NaN   NaN       NaN  \n",
       "2  1.23 -0.162686 -0.160860       NaN       NaN  2.71 -0.167827  \n",
       "3  1.38 -0.169312 -0.162686  0.013926  0.006959  1.23 -0.160860  \n",
       "4  1.78 -0.171591 -0.169312  0.013285  0.015111  1.38 -0.162686  \n",
       "\n",
       "[5 rows x 24 columns]"
      ]
     },
     "execution_count": 55,
     "metadata": {},
     "output_type": "execute_result"
    }
   ],
   "source": [
    "comsup = woo.data('consump')\n",
    "comsup.head()"
   ]
  },
  {
   "cell_type": "code",
   "execution_count": 56,
   "metadata": {},
   "outputs": [],
   "source": [
    "comsup.dropna(subset=['gc', 'gy', 'r3', 'gy_1'], inplace=True)"
   ]
  },
  {
   "cell_type": "code",
   "execution_count": 57,
   "metadata": {},
   "outputs": [
    {
     "name": "stdout",
     "output_type": "stream",
     "text": [
      "                          IV-2SLS Estimation Summary                          \n",
      "==============================================================================\n",
      "Dep. Variable:                     gc   R-squared:                      0.6779\n",
      "Estimator:                    IV-2SLS   Adj. R-squared:                 0.6578\n",
      "No. Observations:                  35   F-statistic:                    9.5862\n",
      "Date:                Mon, Jul 04 2022   P-value (F-stat)                0.0005\n",
      "Time:                        15:46:54   Distribution:                  F(2,32)\n",
      "Cov. Estimator:            unadjusted                                         \n",
      "                                                                              \n",
      "                             Parameter Estimates                              \n",
      "==============================================================================\n",
      "            Parameter  Std. Err.     T-stat    P-value    Lower CI    Upper CI\n",
      "------------------------------------------------------------------------------\n",
      "Intercept      0.0081     0.0032     2.4931     0.0180      0.0015      0.0146\n",
      "gy             0.5862     0.1346     4.3559     0.0001      0.3121      0.8603\n",
      "r3            -0.0003     0.0008    -0.3526     0.7267     -0.0018      0.0013\n",
      "==============================================================================\n",
      "\n",
      "Endogenous: gy, r3\n",
      "Instruments: gc_1, gy_1, r3_1\n",
      "Unadjusted Covariance (Homoskedastic)\n",
      "Debiased: True\n"
     ]
    }
   ],
   "source": [
    "pih_reg = iv.IV2SLS.from_formula('gc ~ 1 + [gy + r3 ~ gc_1 + gy_1 + r3_1]', data=comsup)\n",
    "results_pih_reg = pih_reg.fit(cov_type='unadjusted', debiased=True)\n",
    "print(results_pih_reg)"
   ]
  },
  {
   "cell_type": "markdown",
   "metadata": {},
   "source": [
    "> Se as formas estruturais contiverem tendências temporais, os lags das variáveis podem ser usados como seus próprios instrumentos, sempre levando em conta a correlação serial do termo do erro como um impeditivo para inferência, caso ocorra. "
   ]
  },
  {
   "cell_type": "markdown",
   "metadata": {},
   "source": [
    "# Simultaneous Equations Models with Panel Data\n",
    "---"
   ]
  },
  {
   "cell_type": "markdown",
   "metadata": {},
   "source": [
    "SEM também podem ser aplicados a dados em painel, para incluirmos os efeitos fixos e aleatórios sobre os indivíduos de uma amostra com os métodos que vimos anteriormente. "
   ]
  },
  {
   "cell_type": "markdown",
   "metadata": {},
   "source": [
    "Nesse caso, também aplicamos variáveis instrumentais para controlar para variáveis exógenas que podem provocar endogeneidade. Assim:\n",
    "\n",
    "- O desafio é encontrar instrumentos que não sejam efeitos fixos: **eles precisam variar no tempo**."
   ]
  },
  {
   "cell_type": "markdown",
   "metadata": {},
   "source": [
    "Em uma análise geral, podemos:\n",
    "\n",
    "1. Permitir que os efeitos não observáveis estejam correlacionados com todas as variáveis explicativas;\n",
    "\n",
    "Contudo:\n",
    "\n",
    "2. DEVEMOS LEMBRAR QUE os erros estruturais idiossincráticos NÃO PODEM ser correlacionados com as variáveis exógenas (as que não causam endogeneidade)."
   ]
  },
  {
   "cell_type": "markdown",
   "metadata": {},
   "source": [
    "> VALE LEMBRAR: nesses casos, não podemos estimar via OLS, dado que o erro composto ($\\alpha_{i1} + u_{i1}$) estará parcialmente correlacionado com as variáveis explicativas. "
   ]
  },
  {
   "cell_type": "markdown",
   "metadata": {},
   "source": [
    "Usaremos então a primeira diferenciação ou uma redução de tempo, para, por definição, eliminarmos a possível correlação:\n",
    "\n",
    "- O único impasse será encontrar os instrumentos para as variáveis que são fonte de endogeneidade."
   ]
  },
  {
   "cell_type": "markdown",
   "metadata": {},
   "source": [
    "Testes de autocorrelação dos erros podem ser realizados a partir da obtenção dos resíduos e uma regressão em suas lags:\n",
    "\n",
    "- 2SLS e suas estatísticas t serão válidas para testar essa hipótese."
   ]
  },
  {
   "cell_type": "markdown",
   "metadata": {},
   "source": [
    "Além da diferenciação, a estimação de SEM com dados em painel também pode ser realizada pela ***transformação de efeitos fixos*** (além da diferenciação), aliada à 2SLS.  "
   ]
  },
  {
   "cell_type": "markdown",
   "metadata": {},
   "source": [
    "Para identificações no tempo com dummies, podemos usá-las como seus próprios instrumentos."
   ]
  },
  {
   "cell_type": "markdown",
   "metadata": {},
   "source": [
    "# ***Computer Exercises***\n",
    "---"
   ]
  },
  {
   "cell_type": "markdown",
   "metadata": {},
   "source": [
    "## C1"
   ]
  },
  {
   "cell_type": "code",
   "execution_count": 58,
   "metadata": {},
   "outputs": [
    {
     "data": {
      "text/html": [
       "<div>\n",
       "<style scoped>\n",
       "    .dataframe tbody tr th:only-of-type {\n",
       "        vertical-align: middle;\n",
       "    }\n",
       "\n",
       "    .dataframe tbody tr th {\n",
       "        vertical-align: top;\n",
       "    }\n",
       "\n",
       "    .dataframe thead th {\n",
       "        text-align: right;\n",
       "    }\n",
       "</style>\n",
       "<table border=\"1\" class=\"dataframe\">\n",
       "  <thead>\n",
       "    <tr style=\"text-align: right;\">\n",
       "      <th></th>\n",
       "      <th>educ</th>\n",
       "      <th>cigpric</th>\n",
       "      <th>white</th>\n",
       "      <th>age</th>\n",
       "      <th>income</th>\n",
       "      <th>cigs</th>\n",
       "      <th>restaurn</th>\n",
       "      <th>lincome</th>\n",
       "      <th>agesq</th>\n",
       "      <th>lcigpric</th>\n",
       "    </tr>\n",
       "  </thead>\n",
       "  <tbody>\n",
       "    <tr>\n",
       "      <th>0</th>\n",
       "      <td>16.0</td>\n",
       "      <td>60.506001</td>\n",
       "      <td>1</td>\n",
       "      <td>46</td>\n",
       "      <td>20000</td>\n",
       "      <td>0</td>\n",
       "      <td>0</td>\n",
       "      <td>9.903487</td>\n",
       "      <td>2116</td>\n",
       "      <td>4.102743</td>\n",
       "    </tr>\n",
       "    <tr>\n",
       "      <th>1</th>\n",
       "      <td>16.0</td>\n",
       "      <td>57.882999</td>\n",
       "      <td>1</td>\n",
       "      <td>40</td>\n",
       "      <td>30000</td>\n",
       "      <td>0</td>\n",
       "      <td>0</td>\n",
       "      <td>10.308952</td>\n",
       "      <td>1600</td>\n",
       "      <td>4.058424</td>\n",
       "    </tr>\n",
       "    <tr>\n",
       "      <th>2</th>\n",
       "      <td>12.0</td>\n",
       "      <td>57.664001</td>\n",
       "      <td>1</td>\n",
       "      <td>58</td>\n",
       "      <td>30000</td>\n",
       "      <td>3</td>\n",
       "      <td>0</td>\n",
       "      <td>10.308952</td>\n",
       "      <td>3364</td>\n",
       "      <td>4.054633</td>\n",
       "    </tr>\n",
       "    <tr>\n",
       "      <th>3</th>\n",
       "      <td>13.5</td>\n",
       "      <td>57.882999</td>\n",
       "      <td>1</td>\n",
       "      <td>30</td>\n",
       "      <td>20000</td>\n",
       "      <td>0</td>\n",
       "      <td>0</td>\n",
       "      <td>9.903487</td>\n",
       "      <td>900</td>\n",
       "      <td>4.058424</td>\n",
       "    </tr>\n",
       "    <tr>\n",
       "      <th>4</th>\n",
       "      <td>10.0</td>\n",
       "      <td>58.320000</td>\n",
       "      <td>1</td>\n",
       "      <td>17</td>\n",
       "      <td>20000</td>\n",
       "      <td>0</td>\n",
       "      <td>0</td>\n",
       "      <td>9.903487</td>\n",
       "      <td>289</td>\n",
       "      <td>4.065945</td>\n",
       "    </tr>\n",
       "  </tbody>\n",
       "</table>\n",
       "</div>"
      ],
      "text/plain": [
       "   educ    cigpric  white  age  income  cigs  restaurn    lincome  agesq  \\\n",
       "0  16.0  60.506001      1   46   20000     0         0   9.903487   2116   \n",
       "1  16.0  57.882999      1   40   30000     0         0  10.308952   1600   \n",
       "2  12.0  57.664001      1   58   30000     3         0  10.308952   3364   \n",
       "3  13.5  57.882999      1   30   20000     0         0   9.903487    900   \n",
       "4  10.0  58.320000      1   17   20000     0         0   9.903487    289   \n",
       "\n",
       "   lcigpric  \n",
       "0  4.102743  \n",
       "1  4.058424  \n",
       "2  4.054633  \n",
       "3  4.058424  \n",
       "4  4.065945  "
      ]
     },
     "execution_count": 58,
     "metadata": {},
     "output_type": "execute_result"
    }
   ],
   "source": [
    "smoke = woo.data('smoke')\n",
    "smoke.head()"
   ]
  },
  {
   "cell_type": "markdown",
   "metadata": {},
   "source": [
    "### i)"
   ]
  },
  {
   "cell_type": "markdown",
   "metadata": {},
   "source": [
    "Assumindo que a equação apresentada seja a forma estrutural, podemos assumir que 100*$\\beta_1$ é o efeito marginal, em porcentagem, do consumo de cigarros sobre a renda."
   ]
  },
  {
   "cell_type": "markdown",
   "metadata": {},
   "source": [
    "### ii) "
   ]
  },
  {
   "cell_type": "markdown",
   "metadata": {},
   "source": [
    "Para $\\gamma_5$ espera-se um sinal negativo ($\\gamma_5 \\leq 0$), dado que um maior preço do cigarro poderia reduzir a demanda por cigarros. Contudo, se a amostra for composta com diversos fumantes viciados, pode ser que o coeficiente seja próximo de zero.\n",
    "\n",
    "Para $\\gamma_6$, espera-se um sinal negativo ($\\gamma_6 \\leq 0$), indicando que a presenla de restrições sobre o fumo em restaurantes impacte negativamente o consumo."
   ]
  },
  {
   "cell_type": "markdown",
   "metadata": {},
   "source": [
    "### iii) "
   ]
  },
  {
   "cell_type": "markdown",
   "metadata": {},
   "source": [
    "A equação estrutural apresentada será identificada se:\n",
    "\n",
    "1. A forma reduzida precisa conter uma variável exógena omitida da forma estrutural e que possa ser usada como instrumento --> Condição de identificação;\n",
    "\n",
    "2. A variável omitida destacada no item 1 precisa ter o coeficiente populacional estatisticamente diferente de zero na forma reduzida --> Condição de posto;\n",
    "\n",
    "Na prática, precisamos que $\\gamma_5$ e $\\gamma_6$ sejam **diferentes de zero**. "
   ]
  },
  {
   "cell_type": "markdown",
   "metadata": {},
   "source": [
    "### iv)"
   ]
  },
  {
   "cell_type": "markdown",
   "metadata": {},
   "source": [
    "Estimando a forma estrutural com OLS:\n",
    "\n",
    "$$\n",
    "log(income) = \\beta_0 + \\beta_1cigs + \\beta_2educ + \\beta_3age + \\beta_4age^2 + u_1\n",
    "$$"
   ]
  },
  {
   "cell_type": "code",
   "execution_count": 59,
   "metadata": {},
   "outputs": [
    {
     "name": "stdout",
     "output_type": "stream",
     "text": [
      "                            OLS Regression Results                            \n",
      "==============================================================================\n",
      "Dep. Variable:                lincome   R-squared:                       0.165\n",
      "Model:                            OLS   Adj. R-squared:                  0.161\n",
      "Method:                 Least Squares   F-statistic:                     39.61\n",
      "Date:                Mon, 04 Jul 2022   Prob (F-statistic):           2.68e-30\n",
      "Time:                        15:46:55   Log-Likelihood:                -798.50\n",
      "No. Observations:                 807   AIC:                             1607.\n",
      "Df Residuals:                     802   BIC:                             1630.\n",
      "Df Model:                           4                                         \n",
      "Covariance Type:            nonrobust                                         \n",
      "==============================================================================\n",
      "                 coef    std err          t      P>|t|      [0.025      0.975]\n",
      "------------------------------------------------------------------------------\n",
      "Intercept      7.7954      0.170     45.741      0.000       7.461       8.130\n",
      "cigs           0.0017      0.002      1.010      0.313      -0.002       0.005\n",
      "educ           0.0604      0.008      7.642      0.000       0.045       0.076\n",
      "age            0.0577      0.008      7.548      0.000       0.043       0.073\n",
      "agesq         -0.0006   8.34e-05     -7.563      0.000      -0.001      -0.000\n",
      "==============================================================================\n",
      "Omnibus:                      264.025   Durbin-Watson:                   1.908\n",
      "Prob(Omnibus):                  0.000   Jarque-Bera (JB):              960.743\n",
      "Skew:                          -1.531   Prob(JB):                    2.38e-209\n",
      "Kurtosis:                       7.381   Cond. No.                     1.88e+04\n",
      "==============================================================================\n",
      "\n",
      "Notes:\n",
      "[1] Standard Errors assume that the covariance matrix of the errors is correctly specified.\n",
      "[2] The condition number is large, 1.88e+04. This might indicate that there are\n",
      "strong multicollinearity or other numerical problems.\n"
     ]
    }
   ],
   "source": [
    "smoke_ols = smf.ols('lincome ~ cigs + educ + age + agesq', data=smoke)\n",
    "results_smoke_ols = smoke_ols.fit()\n",
    "print(results_smoke_ols.summary())"
   ]
  },
  {
   "cell_type": "markdown",
   "metadata": {},
   "source": [
    "Sobre $\\beta_1$, podemos dizer que o coeficiente não é estatisticamente significante nem ao nível de significância de 10%, indicando que o número de cigarros fumados por dia não influencia na renda de um indivíduo em idade ativa. Mesmo assim, ao analisar apenas o valor do coeficiente, poderíamos dizer que o consumo de cigarros tem efeito positivo sobre a renda, sendo que o consumo de 1 cigarro a mais aumentaria em (100*0,0017 = 0,17%)  0.17% a renda deste indivíduo.\n",
    "\n",
    "Vale lembrar que estimar via OLS nos faz ignorar a possível simultaneidade existente entre renda e consumo de cigarros."
   ]
  },
  {
   "cell_type": "markdown",
   "metadata": {},
   "source": [
    "### v)"
   ]
  },
  {
   "cell_type": "markdown",
   "metadata": {},
   "source": [
    "Estimando a forma reduzida via OLS: \n",
    "\n",
    "$$\n",
    "cigs = \\gamma_0 + \\gamma_1log(income) + \\gamma_2educ + \\gamma_3age + \\gamma_4age^2 + \\gamma_5log(cigpric) + \\gamma_6restaurn + u_2\n",
    "$$"
   ]
  },
  {
   "cell_type": "code",
   "execution_count": 60,
   "metadata": {},
   "outputs": [
    {
     "data": {
      "text/html": [
       "<div>\n",
       "<style scoped>\n",
       "    .dataframe tbody tr th:only-of-type {\n",
       "        vertical-align: middle;\n",
       "    }\n",
       "\n",
       "    .dataframe tbody tr th {\n",
       "        vertical-align: top;\n",
       "    }\n",
       "\n",
       "    .dataframe thead th {\n",
       "        text-align: right;\n",
       "    }\n",
       "</style>\n",
       "<table border=\"1\" class=\"dataframe\">\n",
       "  <thead>\n",
       "    <tr style=\"text-align: right;\">\n",
       "      <th></th>\n",
       "      <th>educ</th>\n",
       "      <th>cigpric</th>\n",
       "      <th>white</th>\n",
       "      <th>age</th>\n",
       "      <th>income</th>\n",
       "      <th>cigs</th>\n",
       "      <th>restaurn</th>\n",
       "      <th>lincome</th>\n",
       "      <th>agesq</th>\n",
       "      <th>lcigpric</th>\n",
       "    </tr>\n",
       "  </thead>\n",
       "  <tbody>\n",
       "    <tr>\n",
       "      <th>0</th>\n",
       "      <td>16.0</td>\n",
       "      <td>60.506001</td>\n",
       "      <td>1</td>\n",
       "      <td>46</td>\n",
       "      <td>20000</td>\n",
       "      <td>0</td>\n",
       "      <td>0</td>\n",
       "      <td>9.903487</td>\n",
       "      <td>2116</td>\n",
       "      <td>4.102743</td>\n",
       "    </tr>\n",
       "    <tr>\n",
       "      <th>1</th>\n",
       "      <td>16.0</td>\n",
       "      <td>57.882999</td>\n",
       "      <td>1</td>\n",
       "      <td>40</td>\n",
       "      <td>30000</td>\n",
       "      <td>0</td>\n",
       "      <td>0</td>\n",
       "      <td>10.308952</td>\n",
       "      <td>1600</td>\n",
       "      <td>4.058424</td>\n",
       "    </tr>\n",
       "    <tr>\n",
       "      <th>2</th>\n",
       "      <td>12.0</td>\n",
       "      <td>57.664001</td>\n",
       "      <td>1</td>\n",
       "      <td>58</td>\n",
       "      <td>30000</td>\n",
       "      <td>3</td>\n",
       "      <td>0</td>\n",
       "      <td>10.308952</td>\n",
       "      <td>3364</td>\n",
       "      <td>4.054633</td>\n",
       "    </tr>\n",
       "    <tr>\n",
       "      <th>3</th>\n",
       "      <td>13.5</td>\n",
       "      <td>57.882999</td>\n",
       "      <td>1</td>\n",
       "      <td>30</td>\n",
       "      <td>20000</td>\n",
       "      <td>0</td>\n",
       "      <td>0</td>\n",
       "      <td>9.903487</td>\n",
       "      <td>900</td>\n",
       "      <td>4.058424</td>\n",
       "    </tr>\n",
       "    <tr>\n",
       "      <th>4</th>\n",
       "      <td>10.0</td>\n",
       "      <td>58.320000</td>\n",
       "      <td>1</td>\n",
       "      <td>17</td>\n",
       "      <td>20000</td>\n",
       "      <td>0</td>\n",
       "      <td>0</td>\n",
       "      <td>9.903487</td>\n",
       "      <td>289</td>\n",
       "      <td>4.065945</td>\n",
       "    </tr>\n",
       "  </tbody>\n",
       "</table>\n",
       "</div>"
      ],
      "text/plain": [
       "   educ    cigpric  white  age  income  cigs  restaurn    lincome  agesq  \\\n",
       "0  16.0  60.506001      1   46   20000     0         0   9.903487   2116   \n",
       "1  16.0  57.882999      1   40   30000     0         0  10.308952   1600   \n",
       "2  12.0  57.664001      1   58   30000     3         0  10.308952   3364   \n",
       "3  13.5  57.882999      1   30   20000     0         0   9.903487    900   \n",
       "4  10.0  58.320000      1   17   20000     0         0   9.903487    289   \n",
       "\n",
       "   lcigpric  \n",
       "0  4.102743  \n",
       "1  4.058424  \n",
       "2  4.054633  \n",
       "3  4.058424  \n",
       "4  4.065945  "
      ]
     },
     "execution_count": 60,
     "metadata": {},
     "output_type": "execute_result"
    }
   ],
   "source": [
    "smoke.head()"
   ]
  },
  {
   "cell_type": "code",
   "execution_count": 61,
   "metadata": {},
   "outputs": [
    {
     "name": "stdout",
     "output_type": "stream",
     "text": [
      "                            OLS Regression Results                            \n",
      "==============================================================================\n",
      "Dep. Variable:                   cigs   R-squared:                       0.051\n",
      "Model:                            OLS   Adj. R-squared:                  0.045\n",
      "Method:                 Least Squares   F-statistic:                     8.610\n",
      "Date:                Mon, 04 Jul 2022   Prob (F-statistic):           5.86e-08\n",
      "Time:                        15:46:56   Log-Likelihood:                -3237.0\n",
      "No. Observations:                 807   AIC:                             6486.\n",
      "Df Residuals:                     801   BIC:                             6514.\n",
      "Df Model:                           5                                         \n",
      "Covariance Type:            nonrobust                                         \n",
      "==============================================================================\n",
      "                 coef    std err          t      P>|t|      [0.025      0.975]\n",
      "------------------------------------------------------------------------------\n",
      "Intercept      1.5801     23.696      0.067      0.947     -44.933      48.093\n",
      "educ          -0.4501      0.162     -2.785      0.005      -0.767      -0.133\n",
      "age            0.8225      0.154      5.330      0.000       0.520       1.125\n",
      "agesq         -0.0096      0.002     -5.711      0.000      -0.013      -0.006\n",
      "lcigpric      -0.3513      5.766     -0.061      0.951     -11.669      10.966\n",
      "restaurn      -2.7364      1.110     -2.466      0.014      -4.915      -0.558\n",
      "==============================================================================\n",
      "Omnibus:                      226.788   Durbin-Watson:                   2.010\n",
      "Prob(Omnibus):                  0.000   Jarque-Bera (JB):              500.148\n",
      "Skew:                           1.543   Prob(JB):                    2.48e-109\n",
      "Kurtosis:                       5.313   Cond. No.                     1.31e+05\n",
      "==============================================================================\n",
      "\n",
      "Notes:\n",
      "[1] Standard Errors assume that the covariance matrix of the errors is correctly specified.\n",
      "[2] The condition number is large, 1.31e+05. This might indicate that there are\n",
      "strong multicollinearity or other numerical problems.\n"
     ]
    }
   ],
   "source": [
    "cigs_ols = smf.ols('cigs ~ educ + age + agesq + lcigpric + restaurn', data=smoke)\n",
    "results_cigs_ols = cigs_ols.fit()\n",
    "print(results_cigs_ols.summary())"
   ]
  },
  {
   "cell_type": "markdown",
   "metadata": {},
   "source": [
    "Enquanto o preço do cigarro [log(cigpric)] não é estatisticamente significante, a proibição do fumo em restaurantes é significante. Nesse caso, pessoas que vivem em estados com proibição de fumo nesses ambientes tendem a fumar quase que 3 cigarros a menos por dia."
   ]
  },
  {
   "cell_type": "code",
   "execution_count": 62,
   "metadata": {},
   "outputs": [
    {
     "name": "stdout",
     "output_type": "stream",
     "text": [
      "                            OLS Regression Results                            \n",
      "==============================================================================\n",
      "Dep. Variable:                   cigs   R-squared:                       0.008\n",
      "Model:                            OLS   Adj. R-squared:                  0.005\n",
      "Method:                 Least Squares   F-statistic:                     3.077\n",
      "Date:                Mon, 04 Jul 2022   Prob (F-statistic):             0.0467\n",
      "Time:                        15:46:57   Log-Likelihood:                -3255.0\n",
      "No. Observations:                 807   AIC:                             6516.\n",
      "Df Residuals:                     804   BIC:                             6530.\n",
      "Df Model:                           2                                         \n",
      "Covariance Type:            nonrobust                                         \n",
      "==============================================================================\n",
      "                 coef    std err          t      P>|t|      [0.025      0.975]\n",
      "------------------------------------------------------------------------------\n",
      "Intercept     10.5384     24.045      0.438      0.661     -36.660      57.737\n",
      "lcigpric      -0.2857      5.879     -0.049      0.961     -11.825      11.254\n",
      "restaurn      -2.7639      1.130     -2.445      0.015      -4.983      -0.545\n",
      "==============================================================================\n",
      "Omnibus:                      241.692   Durbin-Watson:                   2.004\n",
      "Prob(Omnibus):                  0.000   Jarque-Bera (JB):              549.944\n",
      "Skew:                           1.634   Prob(JB):                    3.81e-120\n",
      "Kurtosis:                       5.382   Cond. No.                         217.\n",
      "==============================================================================\n",
      "\n",
      "Notes:\n",
      "[1] Standard Errors assume that the covariance matrix of the errors is correctly specified.\n"
     ]
    }
   ],
   "source": [
    "cigs_ols_rest_price = smf.ols('cigs ~ lcigpric + restaurn', data=smoke)\n",
    "results_cigs_ols_restpric = cigs_ols_rest_price.fit()\n",
    "print(results_cigs_ols_restpric.summary())"
   ]
  },
  {
   "cell_type": "markdown",
   "metadata": {},
   "source": [
    "Poderíamos tirar o preço do cigarro da análise, mas essa variável é conjuntamente significante junto das restrições de fumo em restaurantes, pelo teste F de Snedecor, vamos deixá-la no modelo."
   ]
  },
  {
   "cell_type": "markdown",
   "metadata": {},
   "source": [
    "### vi)"
   ]
  },
  {
   "cell_type": "markdown",
   "metadata": {},
   "source": [
    "Estimando a forma estrutural por meio de 2SLS usando o preço do cigarro e as restrições em restaurantes como instrumentos para a quantidade de cigarros fumados em um dia."
   ]
  },
  {
   "cell_type": "code",
   "execution_count": 63,
   "metadata": {},
   "outputs": [
    {
     "name": "stdout",
     "output_type": "stream",
     "text": [
      "                          IV-2SLS Estimation Summary                          \n",
      "==============================================================================\n",
      "Dep. Variable:                lincome   R-squared:                     -0.5169\n",
      "Estimator:                    IV-2SLS   Adj. R-squared:                -0.5245\n",
      "No. Observations:                 807   F-statistic:                    22.311\n",
      "Date:                Mon, Jul 04 2022   P-value (F-stat)                0.0000\n",
      "Time:                        15:46:57   Distribution:                 F(4,802)\n",
      "Cov. Estimator:            unadjusted                                         \n",
      "                                                                              \n",
      "                             Parameter Estimates                              \n",
      "==============================================================================\n",
      "            Parameter  Std. Err.     T-stat    P-value    Lower CI    Upper CI\n",
      "------------------------------------------------------------------------------\n",
      "Intercept      7.7809     0.2299     33.850     0.0000      7.3297      8.2321\n",
      "age            0.0938     0.0239     3.9331     0.0001      0.0470      0.1406\n",
      "agesq         -0.0011     0.0003    -3.8305     0.0001     -0.0016     -0.0005\n",
      "educ           0.0397     0.0163     2.4369     0.0150      0.0077      0.0716\n",
      "cigs          -0.0421     0.0262    -1.6067     0.1085     -0.0936      0.0093\n",
      "==============================================================================\n",
      "\n",
      "Endogenous: cigs\n",
      "Instruments: lcigpric, restaurn\n",
      "Unadjusted Covariance (Homoskedastic)\n",
      "Debiased: True\n",
      "\n",
      "                            OLS Regression Results                            \n",
      "==============================================================================\n",
      "Dep. Variable:                lincome   R-squared:                       0.165\n",
      "Model:                            OLS   Adj. R-squared:                  0.161\n",
      "Method:                 Least Squares   F-statistic:                     39.61\n",
      "Date:                Mon, 04 Jul 2022   Prob (F-statistic):           2.68e-30\n",
      "Time:                        15:46:57   Log-Likelihood:                -798.50\n",
      "No. Observations:                 807   AIC:                             1607.\n",
      "Df Residuals:                     802   BIC:                             1630.\n",
      "Df Model:                           4                                         \n",
      "Covariance Type:            nonrobust                                         \n",
      "==============================================================================\n",
      "                 coef    std err          t      P>|t|      [0.025      0.975]\n",
      "------------------------------------------------------------------------------\n",
      "Intercept      7.7954      0.170     45.741      0.000       7.461       8.130\n",
      "cigs           0.0017      0.002      1.010      0.313      -0.002       0.005\n",
      "educ           0.0604      0.008      7.642      0.000       0.045       0.076\n",
      "age            0.0577      0.008      7.548      0.000       0.043       0.073\n",
      "agesq         -0.0006   8.34e-05     -7.563      0.000      -0.001      -0.000\n",
      "==============================================================================\n",
      "Omnibus:                      264.025   Durbin-Watson:                   1.908\n",
      "Prob(Omnibus):                  0.000   Jarque-Bera (JB):              960.743\n",
      "Skew:                          -1.531   Prob(JB):                    2.38e-209\n",
      "Kurtosis:                       7.381   Cond. No.                     1.88e+04\n",
      "==============================================================================\n",
      "\n",
      "Notes:\n",
      "[1] Standard Errors assume that the covariance matrix of the errors is correctly specified.\n",
      "[2] The condition number is large, 1.88e+04. This might indicate that there are\n",
      "strong multicollinearity or other numerical problems.\n"
     ]
    }
   ],
   "source": [
    "smoke_iv = iv.IV2SLS.from_formula('lincome ~ 1 + [cigs ~ lcigpric + restaurn] + educ + age + agesq', data=smoke)\n",
    "results_smoke_iv = smoke_iv.fit(cov_type='unadjusted', debiased=True)\n",
    "print(results_smoke_iv.summary, results_smoke_ols.summary(), sep='\\n\\n')"
   ]
  },
  {
   "cell_type": "markdown",
   "metadata": {},
   "source": [
    "Podemos observar que o valor de $\\beta_1$ é bem distinto entre os métodos. A começar pelo sinal: enquanto por OLS o estimador nos dá um valor positivo, mas estatisticamente insignificante, em 2SLS e IV's temos que o seu valor é negativo e indica que a renda do indivíduo tende a cair (100 * 0.0421 = 4.21%) 4.21% a cada cigarro fumado a mais por dia, ao contrário do aumento em 0.17% no exercício anterior por OLS. \n",
    "\n",
    "Vale lembrar que mesmo estimando por 2SLS, o estimador quase é significante ao nível de 10%. Vale lembrar, contudo, que o intervalo de confiança para testar a hipótese é mais amplo que em OLS, o que pode influenciar na significância. Mas como, por propriedade o estimador é consistente, podemos levantar novamenta a hipótese de sua relevância em um número significativo de indivíduos. "
   ]
  },
  {
   "cell_type": "markdown",
   "metadata": {},
   "source": [
    "### vii)"
   ]
  },
  {
   "cell_type": "markdown",
   "metadata": {},
   "source": [
    "Assumir que as restrições de fumo e os preços do cigarro são exógenas na forma estrutural pode ser problemático. Isso porque podem haver efeitos fixos por estado, por exemplo: a renda média do estado pode influenciar se há ou não restrições em restaurantes (após controlar para outros fatores) ou até mesmo legislações que sobretaxem os cigarros para controlar suas externalidades negativas. Pode ser que em um estado de menor renda seja menos provável que essas legislações sejam implementadas. Nesse caso, precisaríamos controlar para os efeitos fixos de estados.  "
   ]
  },
  {
   "cell_type": "markdown",
   "metadata": {},
   "source": [
    "## C2"
   ]
  },
  {
   "cell_type": "code",
   "execution_count": 64,
   "metadata": {},
   "outputs": [
    {
     "data": {
      "text/html": [
       "<div>\n",
       "<style scoped>\n",
       "    .dataframe tbody tr th:only-of-type {\n",
       "        vertical-align: middle;\n",
       "    }\n",
       "\n",
       "    .dataframe tbody tr th {\n",
       "        vertical-align: top;\n",
       "    }\n",
       "\n",
       "    .dataframe thead th {\n",
       "        text-align: right;\n",
       "    }\n",
       "</style>\n",
       "<table border=\"1\" class=\"dataframe\">\n",
       "  <thead>\n",
       "    <tr style=\"text-align: right;\">\n",
       "      <th></th>\n",
       "      <th>inlf</th>\n",
       "      <th>hours</th>\n",
       "      <th>kidslt6</th>\n",
       "      <th>kidsge6</th>\n",
       "      <th>age</th>\n",
       "      <th>educ</th>\n",
       "      <th>wage</th>\n",
       "      <th>repwage</th>\n",
       "      <th>hushrs</th>\n",
       "      <th>husage</th>\n",
       "      <th>...</th>\n",
       "      <th>faminc</th>\n",
       "      <th>mtr</th>\n",
       "      <th>motheduc</th>\n",
       "      <th>fatheduc</th>\n",
       "      <th>unem</th>\n",
       "      <th>city</th>\n",
       "      <th>exper</th>\n",
       "      <th>nwifeinc</th>\n",
       "      <th>lwage</th>\n",
       "      <th>expersq</th>\n",
       "    </tr>\n",
       "  </thead>\n",
       "  <tbody>\n",
       "    <tr>\n",
       "      <th>0</th>\n",
       "      <td>1</td>\n",
       "      <td>1610</td>\n",
       "      <td>1</td>\n",
       "      <td>0</td>\n",
       "      <td>32</td>\n",
       "      <td>12</td>\n",
       "      <td>3.3540</td>\n",
       "      <td>2.65</td>\n",
       "      <td>2708</td>\n",
       "      <td>34</td>\n",
       "      <td>...</td>\n",
       "      <td>16310.0</td>\n",
       "      <td>0.7215</td>\n",
       "      <td>12</td>\n",
       "      <td>7</td>\n",
       "      <td>5.0</td>\n",
       "      <td>0</td>\n",
       "      <td>14</td>\n",
       "      <td>10.910060</td>\n",
       "      <td>1.210154</td>\n",
       "      <td>196</td>\n",
       "    </tr>\n",
       "    <tr>\n",
       "      <th>1</th>\n",
       "      <td>1</td>\n",
       "      <td>1656</td>\n",
       "      <td>0</td>\n",
       "      <td>2</td>\n",
       "      <td>30</td>\n",
       "      <td>12</td>\n",
       "      <td>1.3889</td>\n",
       "      <td>2.65</td>\n",
       "      <td>2310</td>\n",
       "      <td>30</td>\n",
       "      <td>...</td>\n",
       "      <td>21800.0</td>\n",
       "      <td>0.6615</td>\n",
       "      <td>7</td>\n",
       "      <td>7</td>\n",
       "      <td>11.0</td>\n",
       "      <td>1</td>\n",
       "      <td>5</td>\n",
       "      <td>19.499981</td>\n",
       "      <td>0.328512</td>\n",
       "      <td>25</td>\n",
       "    </tr>\n",
       "    <tr>\n",
       "      <th>2</th>\n",
       "      <td>1</td>\n",
       "      <td>1980</td>\n",
       "      <td>1</td>\n",
       "      <td>3</td>\n",
       "      <td>35</td>\n",
       "      <td>12</td>\n",
       "      <td>4.5455</td>\n",
       "      <td>4.04</td>\n",
       "      <td>3072</td>\n",
       "      <td>40</td>\n",
       "      <td>...</td>\n",
       "      <td>21040.0</td>\n",
       "      <td>0.6915</td>\n",
       "      <td>12</td>\n",
       "      <td>7</td>\n",
       "      <td>5.0</td>\n",
       "      <td>0</td>\n",
       "      <td>15</td>\n",
       "      <td>12.039910</td>\n",
       "      <td>1.514138</td>\n",
       "      <td>225</td>\n",
       "    </tr>\n",
       "    <tr>\n",
       "      <th>3</th>\n",
       "      <td>1</td>\n",
       "      <td>456</td>\n",
       "      <td>0</td>\n",
       "      <td>3</td>\n",
       "      <td>34</td>\n",
       "      <td>12</td>\n",
       "      <td>1.0965</td>\n",
       "      <td>3.25</td>\n",
       "      <td>1920</td>\n",
       "      <td>53</td>\n",
       "      <td>...</td>\n",
       "      <td>7300.0</td>\n",
       "      <td>0.7815</td>\n",
       "      <td>7</td>\n",
       "      <td>7</td>\n",
       "      <td>5.0</td>\n",
       "      <td>0</td>\n",
       "      <td>6</td>\n",
       "      <td>6.799996</td>\n",
       "      <td>0.092123</td>\n",
       "      <td>36</td>\n",
       "    </tr>\n",
       "    <tr>\n",
       "      <th>4</th>\n",
       "      <td>1</td>\n",
       "      <td>1568</td>\n",
       "      <td>1</td>\n",
       "      <td>2</td>\n",
       "      <td>31</td>\n",
       "      <td>14</td>\n",
       "      <td>4.5918</td>\n",
       "      <td>3.60</td>\n",
       "      <td>2000</td>\n",
       "      <td>32</td>\n",
       "      <td>...</td>\n",
       "      <td>27300.0</td>\n",
       "      <td>0.6215</td>\n",
       "      <td>12</td>\n",
       "      <td>14</td>\n",
       "      <td>9.5</td>\n",
       "      <td>1</td>\n",
       "      <td>7</td>\n",
       "      <td>20.100058</td>\n",
       "      <td>1.524272</td>\n",
       "      <td>49</td>\n",
       "    </tr>\n",
       "  </tbody>\n",
       "</table>\n",
       "<p>5 rows × 22 columns</p>\n",
       "</div>"
      ],
      "text/plain": [
       "   inlf  hours  kidslt6  kidsge6  age  educ    wage  repwage  hushrs  husage  \\\n",
       "0     1   1610        1        0   32    12  3.3540     2.65    2708      34   \n",
       "1     1   1656        0        2   30    12  1.3889     2.65    2310      30   \n",
       "2     1   1980        1        3   35    12  4.5455     4.04    3072      40   \n",
       "3     1    456        0        3   34    12  1.0965     3.25    1920      53   \n",
       "4     1   1568        1        2   31    14  4.5918     3.60    2000      32   \n",
       "\n",
       "   ...   faminc     mtr  motheduc  fatheduc  unem  city  exper   nwifeinc  \\\n",
       "0  ...  16310.0  0.7215        12         7   5.0     0     14  10.910060   \n",
       "1  ...  21800.0  0.6615         7         7  11.0     1      5  19.499981   \n",
       "2  ...  21040.0  0.6915        12         7   5.0     0     15  12.039910   \n",
       "3  ...   7300.0  0.7815         7         7   5.0     0      6   6.799996   \n",
       "4  ...  27300.0  0.6215        12        14   9.5     1      7  20.100058   \n",
       "\n",
       "      lwage  expersq  \n",
       "0  1.210154      196  \n",
       "1  0.328512       25  \n",
       "2  1.514138      225  \n",
       "3  0.092123       36  \n",
       "4  1.524272       49  \n",
       "\n",
       "[5 rows x 22 columns]"
      ]
     },
     "execution_count": 64,
     "metadata": {},
     "output_type": "execute_result"
    }
   ],
   "source": [
    "mroz = woo.data('mroz')\n",
    "mroz.head()"
   ]
  },
  {
   "cell_type": "markdown",
   "metadata": {},
   "source": [
    "### i)"
   ]
  },
  {
   "cell_type": "markdown",
   "metadata": {},
   "source": [
    "Forma estrutural:\n",
    "\n",
    "$$\n",
    "hours = \\alpha_1log(wage) + \\beta_{10} + \\beta_{11}educ + \\beta_{12}age + \\beta_{13}kidslt6 + \\beta_{14}nwifeinc + u_1\n",
    "$$\n",
    "\n",
    "Forma reduzida:\n",
    "\n",
    "$$\n",
    "log(wage) = \\alpha_2hours + \\beta_{20} + \\beta_{21}educ + \\beta_{22}exper + \\beta_{23}exper^2 + u_2\n",
    "$$\n",
    "\n",
    "REESTIMANDO A FORMA ESTRUTURAL EM:\n",
    "\n",
    "$$\n",
    "log(hours) = \\alpha_1log(wage) + \\beta_{10} + \\beta_{11}educ + \\beta_{12}age + \\beta_{13}kidslt6 + \\beta_{14}nwifeinc + u_1\n",
    "$$"
   ]
  },
  {
   "cell_type": "code",
   "execution_count": 65,
   "metadata": {},
   "outputs": [],
   "source": [
    "mroz.dropna(subset=['lwage'], inplace=True)"
   ]
  },
  {
   "cell_type": "code",
   "execution_count": 66,
   "metadata": {},
   "outputs": [
    {
     "name": "stdout",
     "output_type": "stream",
     "text": [
      "                          IV-2SLS Estimation Summary                          \n",
      "==============================================================================\n",
      "Dep. Variable:          np.log(hours)   R-squared:                     -1.7762\n",
      "Estimator:                    IV-2SLS   Adj. R-squared:                -1.8091\n",
      "No. Observations:                 428   F-statistic:                    4.8105\n",
      "Date:                Mon, Jul 04 2022   P-value (F-stat)                0.0003\n",
      "Time:                        15:46:58   Distribution:                 F(5,422)\n",
      "Cov. Estimator:            unadjusted                                         \n",
      "                                                                              \n",
      "                             Parameter Estimates                              \n",
      "==============================================================================\n",
      "            Parameter  Std. Err.     T-stat    P-value    Lower CI    Upper CI\n",
      "------------------------------------------------------------------------------\n",
      "Intercept      8.3702     0.6890     12.148     0.0000      7.0159      9.7246\n",
      "age           -0.0135     0.0112    -1.2026     0.2298     -0.0356      0.0086\n",
      "educ          -0.2355     0.0709    -3.3223     0.0010     -0.3748     -0.0962\n",
      "kidslt6       -0.4654     0.2194    -2.1217     0.0344     -0.8966     -0.0343\n",
      "nwifeinc      -0.0139     0.0079    -1.7529     0.0803     -0.0295      0.0017\n",
      "lwage          1.9943     0.5643     3.5341     0.0005      0.8851      3.1036\n",
      "==============================================================================\n",
      "\n",
      "Endogenous: lwage\n",
      "Instruments: exper, expersq\n",
      "Unadjusted Covariance (Homoskedastic)\n",
      "Debiased: True                           IV-2SLS Estimation Summary                          \n",
      "==============================================================================\n",
      "Dep. Variable:                  hours   R-squared:                     -2.0076\n",
      "Estimator:                    IV-2SLS   Adj. R-squared:                -2.0433\n",
      "No. Observations:                 428   F-statistic:                    3.4410\n",
      "Date:                Mon, Jul 04 2022   P-value (F-stat)                0.0046\n",
      "Time:                        15:46:51   Distribution:                 F(5,422)\n",
      "Cov. Estimator:            unadjusted                                         \n",
      "                                                                              \n",
      "                             Parameter Estimates                              \n",
      "==============================================================================\n",
      "            Parameter  Std. Err.     T-stat    P-value    Lower CI    Upper CI\n",
      "------------------------------------------------------------------------------\n",
      "Intercept      2225.7     574.56     3.8737     0.0001      1096.3      3355.0\n",
      "age           -7.8061     9.3780    -0.8324     0.4057     -26.240      10.627\n",
      "educ          -183.75     59.100    -3.1092     0.0020     -299.92     -67.585\n",
      "kidslt6       -198.15     182.93    -1.0832     0.2793     -557.72      161.41\n",
      "nwifeinc      -10.170     6.6147    -1.5374     0.1249     -23.172      2.8324\n",
      "lwage          1639.6     470.58     3.4841     0.0005      714.59      2564.5\n",
      "==============================================================================\n",
      "\n",
      "Endogenous: lwage\n",
      "Instruments: exper, expersq\n",
      "Unadjusted Covariance (Homoskedastic)\n",
      "Debiased: True\n"
     ]
    }
   ],
   "source": [
    "loghours_iv = iv.IV2SLS.from_formula('np.log(hours) ~ 1 + [lwage ~ exper + expersq] + educ + age + kidslt6 + nwifeinc', data=mroz)\n",
    "results_loghours_iv = loghours_iv.fit(cov_type='unadjusted', debiased=True)\n",
    "print(results_loghours_iv.summary, results_reg_iv165)"
   ]
  },
  {
   "cell_type": "markdown",
   "metadata": {},
   "source": [
    "Ao estimarmos usado log(hours) como variável dependente, a elasticidade preço (salário) daoferta de trabalho é de 1.99%. O número é ainda maior do que o 1.26% [1639.6 / 1303 (média de horas trabalhadas na amostra) = 1.26%] que estimamos com hours sendo a variável dependente. \n",
    "\n",
    "Um dos possíveis motivos para isso ocorrer, é que o logaritmo de horas trabalhadas só pode ser calculado para valores acima de zero, o que nos faz excluir esses dados da amostra para realizar a transformação log."
   ]
  },
  {
   "cell_type": "markdown",
   "metadata": {},
   "source": [
    "### ii) "
   ]
  },
  {
   "cell_type": "markdown",
   "metadata": {},
   "source": [
    "Permitindo que educ seja endógena e usando a educação da mãe e do pai como instrumentos"
   ]
  },
  {
   "cell_type": "code",
   "execution_count": 67,
   "metadata": {},
   "outputs": [
    {
     "name": "stdout",
     "output_type": "stream",
     "text": [
      "                          IV-2SLS Estimation Summary                          \n",
      "==============================================================================\n",
      "Dep. Variable:          np.log(hours)   R-squared:                     -1.4820\n",
      "Estimator:                    IV-2SLS   Adj. R-squared:                -1.5114\n",
      "No. Observations:                 428   F-statistic:                    5.1828\n",
      "Date:                Mon, Jul 04 2022   P-value (F-stat)                0.0001\n",
      "Time:                        15:46:58   Distribution:                 F(5,422)\n",
      "Cov. Estimator:            unadjusted                                         \n",
      "                                                                              \n",
      "                             Parameter Estimates                              \n",
      "==============================================================================\n",
      "            Parameter  Std. Err.     T-stat    P-value    Lower CI    Upper CI\n",
      "------------------------------------------------------------------------------\n",
      "Intercept      7.2608     1.0194     7.1226     0.0000      5.2570      9.2645\n",
      "age           -0.0116     0.0106    -1.0959     0.2737     -0.0324      0.0092\n",
      "kidslt6       -0.5432     0.2113    -2.5703     0.0105     -0.9586     -0.1278\n",
      "nwifeinc      -0.0189     0.0088    -2.1524     0.0319     -0.0362     -0.0016\n",
      "educ          -0.1286     0.0874    -1.4709     0.1421     -0.3005      0.0433\n",
      "lwage          1.8109     0.4978     3.6381     0.0003      0.8325      2.7893\n",
      "==============================================================================\n",
      "\n",
      "Endogenous: educ, lwage\n",
      "Instruments: exper, expersq, fatheduc, motheduc\n",
      "Unadjusted Covariance (Homoskedastic)\n",
      "Debiased: True\n"
     ]
    }
   ],
   "source": [
    "loghours_iv2 = iv.IV2SLS.from_formula('np.log(hours) ~ 1 + [lwage + educ ~ exper + expersq + motheduc + fatheduc] + age + kidslt6 + nwifeinc', data=mroz)\n",
    "results_loghours_iv2 = loghours_iv2.fit(cov_type='unadjusted', debiased=True)\n",
    "print(results_loghours_iv2.summary)"
   ]
  },
  {
   "cell_type": "code",
   "execution_count": 68,
   "metadata": {},
   "outputs": [
    {
     "name": "stdout",
     "output_type": "stream",
     "text": [
      "                            OLS Regression Results                            \n",
      "==============================================================================\n",
      "Dep. Variable:                 resids   R-squared:                       0.001\n",
      "Model:                            OLS   Adj. R-squared:                 -0.016\n",
      "Method:                 Least Squares   F-statistic:                   0.06264\n",
      "Date:                Mon, 04 Jul 2022   Prob (F-statistic):               1.00\n",
      "Time:                        15:46:59   Log-Likelihood:                -787.61\n",
      "No. Observations:                 428   AIC:                             1591.\n",
      "Df Residuals:                     420   BIC:                             1624.\n",
      "Df Model:                           7                                         \n",
      "Covariance Type:            nonrobust                                         \n",
      "==============================================================================\n",
      "                 coef    std err          t      P>|t|      [0.025      0.975]\n",
      "------------------------------------------------------------------------------\n",
      "Intercept      0.0042      0.606      0.007      0.995      -1.188       1.196\n",
      "exper         -0.0043      0.030     -0.142      0.887      -0.064       0.056\n",
      "expersq        0.0002      0.001      0.211      0.833      -0.002       0.002\n",
      "motheduc       0.0144      0.028      0.521      0.602      -0.040       0.069\n",
      "fatheduc      -0.0131      0.026     -0.512      0.609      -0.064       0.037\n",
      "age           -0.0006      0.012     -0.047      0.963      -0.025       0.023\n",
      "kidslt6        0.0032      0.203      0.016      0.988      -0.395       0.402\n",
      "nwifeinc       0.0006      0.007      0.077      0.939      -0.014       0.015\n",
      "==============================================================================\n",
      "Omnibus:                       54.628   Durbin-Watson:                   2.122\n",
      "Prob(Omnibus):                  0.000   Jarque-Bera (JB):              410.691\n",
      "Skew:                          -0.149   Prob(JB):                     6.60e-90\n",
      "Kurtosis:                       7.790   Cond. No.                     2.95e+03\n",
      "==============================================================================\n",
      "\n",
      "Notes:\n",
      "[1] Standard Errors assume that the covariance matrix of the errors is correctly specified.\n",
      "[2] The condition number is large, 2.95e+03. This might indicate that there are\n",
      "strong multicollinearity or other numerical problems.\n"
     ]
    }
   ],
   "source": [
    "u_iv2 = results_loghours_iv2.resids\n",
    "mroz['resids'] = u_iv2\n",
    "reg_resid_iv2 = smf.ols('resids ~ exper + expersq + motheduc + fatheduc + age + kidslt6 + nwifeinc', \n",
    "                                        data=mroz).fit()\n",
    "print(reg_resid_iv2.summary())"
   ]
  },
  {
   "cell_type": "markdown",
   "metadata": {},
   "source": [
    "### iii)"
   ]
  },
  {
   "cell_type": "markdown",
   "metadata": {},
   "source": [
    "Teste de sobreidentificação (Teste de Sargan)\n",
    "\n",
    "$H_0$: não está sobreidentificado\n",
    "\n",
    "$H_1$: Modelo sobreidentificado"
   ]
  },
  {
   "cell_type": "code",
   "execution_count": 69,
   "metadata": {},
   "outputs": [
    {
     "data": {
      "text/plain": [
       "(0.799964724573692, 0.4463752931385523)"
      ]
     },
     "execution_count": 69,
     "metadata": {},
     "output_type": "execute_result"
    }
   ],
   "source": [
    "# calculations for test:\n",
    "import scipy.stats as stats\n",
    "\n",
    "r2 = reg_resid_iv2.rsquared\n",
    "n = reg_resid_iv2.nobs\n",
    "teststat = n * r2\n",
    "pval = 1 - stats.chi2.cdf(teststat, 2)\n",
    "pval, teststat"
   ]
  },
  {
   "cell_type": "code",
   "execution_count": 70,
   "metadata": {},
   "outputs": [
    {
     "name": "stdout",
     "output_type": "stream",
     "text": [
      "Sargan's test of overidentification\n",
      "H0: The model is not overidentified.\n",
      "Statistic: 0.4464\n",
      "P-value: 0.8000\n",
      "Distributed: chi2(2)\n",
      "\n",
      "Sargan's test of overidentification\n",
      "H0: The model is not overidentified.\n",
      "Statistic: 0.0685\n",
      "P-value: 0.7935\n",
      "Distributed: chi2(1)\n",
      "\n",
      "Wu-Hausman test of exogeneity\n",
      "H0: All endogenous variables are exogenous\n",
      "Statistic: 20.0137\n",
      "P-value: 0.0000\n",
      "Distributed: F(2,420)\n",
      "\n",
      "Wu-Hausman test of exogeneity\n",
      "H0: All endogenous variables are exogenous\n",
      "Statistic: 41.2026\n",
      "P-value: 0.0000\n",
      "Distributed: F(1,421)\n"
     ]
    }
   ],
   "source": [
    "print(results_loghours_iv2.sargan, results_loghours_iv.sargan, results_loghours_iv2.wu_hausman(), results_loghours_iv.wu_hausman(), sep='\\n\\n')"
   ]
  },
  {
   "cell_type": "markdown",
   "metadata": {},
   "source": [
    "Pelos testes de Wu-Hausman e de Sargan, podemos concluir que nossos modelos não estão sobreidentificados e que todas as variáveis endógenas são de fato endógenas."
   ]
  },
  {
   "cell_type": "markdown",
   "metadata": {},
   "source": [
    "## C3 \n",
    "\n",
    "PULAR DEVIDO AOS ERROS"
   ]
  },
  {
   "cell_type": "markdown",
   "metadata": {},
   "source": [
    "### i)"
   ]
  },
  {
   "cell_type": "code",
   "execution_count": 71,
   "metadata": {},
   "outputs": [
    {
     "data": {
      "text/html": [
       "<div>\n",
       "<style scoped>\n",
       "    .dataframe tbody tr th:only-of-type {\n",
       "        vertical-align: middle;\n",
       "    }\n",
       "\n",
       "    .dataframe tbody tr th {\n",
       "        vertical-align: top;\n",
       "    }\n",
       "\n",
       "    .dataframe thead th {\n",
       "        text-align: right;\n",
       "    }\n",
       "</style>\n",
       "<table border=\"1\" class=\"dataframe\">\n",
       "  <thead>\n",
       "    <tr style=\"text-align: right;\">\n",
       "      <th></th>\n",
       "      <th>open</th>\n",
       "      <th>inf</th>\n",
       "      <th>pcinc</th>\n",
       "      <th>land</th>\n",
       "      <th>oil</th>\n",
       "      <th>good</th>\n",
       "      <th>lpcinc</th>\n",
       "      <th>lland</th>\n",
       "      <th>lopen</th>\n",
       "      <th>linf</th>\n",
       "      <th>opendec</th>\n",
       "      <th>linfdec</th>\n",
       "    </tr>\n",
       "  </thead>\n",
       "  <tbody>\n",
       "    <tr>\n",
       "      <th>0</th>\n",
       "      <td>31.400000</td>\n",
       "      <td>9.9</td>\n",
       "      <td>1998</td>\n",
       "      <td>919595.0</td>\n",
       "      <td>0</td>\n",
       "      <td>0</td>\n",
       "      <td>7.599902</td>\n",
       "      <td>13.731688</td>\n",
       "      <td>3.446808</td>\n",
       "      <td>2.292535</td>\n",
       "      <td>0.314</td>\n",
       "      <td>-2.312635</td>\n",
       "    </tr>\n",
       "    <tr>\n",
       "      <th>1</th>\n",
       "      <td>9.400000</td>\n",
       "      <td>117.0</td>\n",
       "      <td>4342</td>\n",
       "      <td>1072067.0</td>\n",
       "      <td>0</td>\n",
       "      <td>1</td>\n",
       "      <td>8.376090</td>\n",
       "      <td>13.885099</td>\n",
       "      <td>2.240710</td>\n",
       "      <td>4.762174</td>\n",
       "      <td>0.094</td>\n",
       "      <td>0.157004</td>\n",
       "    </tr>\n",
       "    <tr>\n",
       "      <th>2</th>\n",
       "      <td>16.700001</td>\n",
       "      <td>9.5</td>\n",
       "      <td>8349</td>\n",
       "      <td>2966150.0</td>\n",
       "      <td>0</td>\n",
       "      <td>1</td>\n",
       "      <td>9.029897</td>\n",
       "      <td>14.902776</td>\n",
       "      <td>2.815409</td>\n",
       "      <td>2.251292</td>\n",
       "      <td>0.167</td>\n",
       "      <td>-2.353878</td>\n",
       "    </tr>\n",
       "    <tr>\n",
       "      <th>3</th>\n",
       "      <td>35.599998</td>\n",
       "      <td>5.0</td>\n",
       "      <td>8230</td>\n",
       "      <td>32375.0</td>\n",
       "      <td>0</td>\n",
       "      <td>1</td>\n",
       "      <td>9.015541</td>\n",
       "      <td>10.385141</td>\n",
       "      <td>3.572345</td>\n",
       "      <td>1.609438</td>\n",
       "      <td>0.356</td>\n",
       "      <td>-2.995732</td>\n",
       "    </tr>\n",
       "    <tr>\n",
       "      <th>4</th>\n",
       "      <td>91.000000</td>\n",
       "      <td>4.8</td>\n",
       "      <td>9185</td>\n",
       "      <td>240.0</td>\n",
       "      <td>1</td>\n",
       "      <td>0</td>\n",
       "      <td>9.125327</td>\n",
       "      <td>5.480639</td>\n",
       "      <td>4.510859</td>\n",
       "      <td>1.568616</td>\n",
       "      <td>0.910</td>\n",
       "      <td>-3.036554</td>\n",
       "    </tr>\n",
       "  </tbody>\n",
       "</table>\n",
       "</div>"
      ],
      "text/plain": [
       "        open    inf  pcinc       land  oil  good    lpcinc      lland  \\\n",
       "0  31.400000    9.9   1998   919595.0    0     0  7.599902  13.731688   \n",
       "1   9.400000  117.0   4342  1072067.0    0     1  8.376090  13.885099   \n",
       "2  16.700001    9.5   8349  2966150.0    0     1  9.029897  14.902776   \n",
       "3  35.599998    5.0   8230    32375.0    0     1  9.015541  10.385141   \n",
       "4  91.000000    4.8   9185      240.0    1     0  9.125327   5.480639   \n",
       "\n",
       "      lopen      linf  opendec   linfdec  \n",
       "0  3.446808  2.292535    0.314 -2.312635  \n",
       "1  2.240710  4.762174    0.094  0.157004  \n",
       "2  2.815409  2.251292    0.167 -2.353878  \n",
       "3  3.572345  1.609438    0.356 -2.995732  \n",
       "4  4.510859  1.568616    0.910 -3.036554  "
      ]
     },
     "execution_count": 71,
     "metadata": {},
     "output_type": "execute_result"
    }
   ],
   "source": [
    "openness = woo.data('openness')\n",
    "openness.head()"
   ]
  },
  {
   "cell_type": "markdown",
   "metadata": {},
   "source": [
    "## C4"
   ]
  },
  {
   "cell_type": "code",
   "execution_count": 77,
   "metadata": {},
   "outputs": [
    {
     "name": "stdout",
     "output_type": "stream",
     "text": [
      "   year    i3  inf        rdisp      rnondc       rserv       pop  \\\n",
      "0  1959  3.41  0.7  1530.099976  606.299988  687.400024  177830.0   \n",
      "1  1960  2.93  1.7  1565.400024  615.400024  717.400024  180671.0   \n",
      "2  1961  2.38  1.0  1615.800049  626.700012  746.500000  183691.0   \n",
      "3  1962  2.78  1.0  1693.699951  646.500000  783.400024  186538.0   \n",
      "4  1963  3.16  1.3  1755.500000  660.000000  818.700012  189242.0   \n",
      "\n",
      "             y        rcons            c  ...        gy      gc_1      gy_1  \\\n",
      "0  8604.285156  1293.699951  7274.925293  ...       NaN       NaN       NaN   \n",
      "1  8664.368164  1332.800049  7376.945312  ...  0.006959       NaN       NaN   \n",
      "2  8796.293945  1373.199951  7475.597168  ...  0.015111  0.013926  0.006959   \n",
      "3  9079.651367  1429.900024  7665.462402  ...  0.031706  0.013285  0.015111   \n",
      "4  9276.482422  1478.699951  7813.804199  ...  0.021446  0.025081  0.031706   \n",
      "\n",
      "   r3_1     lc_ly   lc_ly_1      gc_2      gy_2  r3_2   lc_ly_2  \n",
      "0   NaN -0.167827       NaN       NaN       NaN   NaN       NaN  \n",
      "1  2.71 -0.160860 -0.167827       NaN       NaN   NaN       NaN  \n",
      "2  1.23 -0.162686 -0.160860       NaN       NaN  2.71 -0.167827  \n",
      "3  1.38 -0.169312 -0.162686  0.013926  0.006959  1.23 -0.160860  \n",
      "4  1.78 -0.171591 -0.169312  0.013285  0.015111  1.38 -0.162686  \n",
      "\n",
      "[5 rows x 24 columns]\n"
     ]
    }
   ],
   "source": [
    "consump = woo.data('consump')\n",
    "print(consump.head())"
   ]
  },
  {
   "cell_type": "markdown",
   "metadata": {},
   "source": [
    "### i)"
   ]
  },
  {
   "cell_type": "code",
   "execution_count": 78,
   "metadata": {},
   "outputs": [
    {
     "name": "stdout",
     "output_type": "stream",
     "text": [
      "                          IV-2SLS Estimation Summary                          \n",
      "==============================================================================\n",
      "Dep. Variable:                     gc   R-squared:                      0.6779\n",
      "Estimator:                    IV-2SLS   Adj. R-squared:                 0.6578\n",
      "No. Observations:                  35   F-statistic:                    9.5862\n",
      "Date:                Mon, Jul 04 2022   P-value (F-stat)                0.0005\n",
      "Time:                        15:52:45   Distribution:                  F(2,32)\n",
      "Cov. Estimator:            unadjusted                                         \n",
      "                                                                              \n",
      "                             Parameter Estimates                              \n",
      "==============================================================================\n",
      "            Parameter  Std. Err.     T-stat    P-value    Lower CI    Upper CI\n",
      "------------------------------------------------------------------------------\n",
      "Intercept      0.0081     0.0032     2.4931     0.0180      0.0015      0.0146\n",
      "gy             0.5862     0.1346     4.3559     0.0001      0.3121      0.8603\n",
      "r3            -0.0003     0.0008    -0.3526     0.7267     -0.0018      0.0013\n",
      "==============================================================================\n",
      "\n",
      "Endogenous: gy, r3\n",
      "Instruments: gc_1, gy_1, r3_1\n",
      "Unadjusted Covariance (Homoskedastic)\n",
      "Debiased: True\n"
     ]
    }
   ],
   "source": [
    "consump.dropna(subset=['gc', 'gy', 'r3', 'gy_1'], inplace=True)\n",
    "\n",
    "pih_reg = iv.IV2SLS.from_formula('gc ~ 1 + [gy + r3 ~ gc_1 + gy_1 + r3_1]', data=consump)\n",
    "results_pih_reg = pih_reg.fit(cov_type='unadjusted', debiased=True)\n",
    "print(results_pih_reg)"
   ]
  },
  {
   "cell_type": "code",
   "execution_count": 80,
   "metadata": {},
   "outputs": [
    {
     "name": "stdout",
     "output_type": "stream",
     "text": [
      "Sargan's test of overidentification\n",
      "H0: The model is not overidentified.\n",
      "Statistic: 2.1463\n",
      "P-value: 0.1429\n",
      "Distributed: chi2(1)\n"
     ]
    }
   ],
   "source": [
    "print(results_pih_reg.sargan)"
   ]
  },
  {
   "cell_type": "markdown",
   "metadata": {},
   "source": [
    "O modelo não está sobreidentificado."
   ]
  },
  {
   "cell_type": "markdown",
   "metadata": {},
   "source": [
    "### ii)"
   ]
  },
  {
   "cell_type": "code",
   "execution_count": null,
   "metadata": {},
   "outputs": [],
   "source": []
  }
 ],
 "metadata": {
  "kernelspec": {
   "display_name": "Python 3.9.10 64-bit (windows store)",
   "language": "python",
   "name": "python3"
  },
  "language_info": {
   "codemirror_mode": {
    "name": "ipython",
    "version": 3
   },
   "file_extension": ".py",
   "mimetype": "text/x-python",
   "name": "python",
   "nbconvert_exporter": "python",
   "pygments_lexer": "ipython3",
   "version": "3.9.13"
  },
  "orig_nbformat": 4,
  "vscode": {
   "interpreter": {
    "hash": "50b6e48135b3aa07383f5a96ff512fd2c607c6638df435f7ef5dee28b012c53c"
   }
  }
 },
 "nbformat": 4,
 "nbformat_minor": 2
}
