{
 "cells": [
  {
   "cell_type": "markdown",
   "metadata": {},
   "source": [
    "# ***Introductory Econometrics: A modern approach***\n",
    "---"
   ]
  },
  {
   "cell_type": "markdown",
   "metadata": {},
   "source": [
    "# Chapter 18: Advanced Time Series Topics"
   ]
  },
  {
   "cell_type": "markdown",
   "metadata": {},
   "source": [
    "> Book: \n",
    "\n",
    "    - WOOLDRIDGE, J. M.. Introdução à econometria: uma abordagem moderna. 3a ed. São Paulo: Pioneira Thomson Learning, 2006.\n",
    "\n",
    "    - WOOLDRIDGE, Jeffrey M. Introductory econometrics: A modern approach. Cengage learning, 2015."
   ]
  },
  {
   "cell_type": "markdown",
   "metadata": {},
   "source": [
    "> LINK to codes correction:\n",
    "\n",
    "http://www.upfie.net/downloads18.html"
   ]
  },
  {
   "cell_type": "markdown",
   "metadata": {},
   "source": [
    "# Bibliotecas\n",
    "---"
   ]
  },
  {
   "cell_type": "code",
   "execution_count": 1,
   "metadata": {},
   "outputs": [],
   "source": [
    "import wooldridge as woo\n",
    "import pandas as pd\n",
    "import numpy as np\n",
    "import statsmodels.formula.api as smf\n",
    "import statsmodels.api as sm\n",
    "import patsy as pt"
   ]
  },
  {
   "cell_type": "markdown",
   "metadata": {},
   "source": [
    "## Observações iniciais"
   ]
  },
  {
   "cell_type": "markdown",
   "metadata": {},
   "source": [
    "- Processos estocásticos de raízes unitárias: a presença de raíz unitária indica que um choque hoje tenha efeitos duradouros no tempo;\n",
    "\n",
    "- Regressões espúrias: se as duas séries com raízes unitárias forem usadas em uma regressão de uma contra a outra, há grandes chances das estatísticas de testes mostrarem insignificância estatística equivocadamente. Quando os processos estocásticos são integrados em alguma ordem, devemos estar atentos aos procedimentos padrões de inferência;\n",
    "\n",
    "- Com uma combinação linear de séries integradas I(0), a regressão não é espúria, mas pode dizer algo sobre a relação de longo prazo entre as séries. Para esse caso de cointegração, temos um modelo específico conhecido como modelos de correção de erro. "
   ]
  },
  {
   "cell_type": "markdown",
   "metadata": {},
   "source": [
    "# Infinite Distributed Lag Models (Modelos de Defasagens Distribuídas)\n",
    "---"
   ]
  },
  {
   "cell_type": "markdown",
   "metadata": {},
   "source": [
    "> Uma extensão dos modelos de defasagem distribuídas finitas vistos no capítulos 10 do livro-texto. Permite que as mudanças nos valores das variáveis explicativas afetem todos os valores futuros da variável dependente."
   ]
  },
  {
   "cell_type": "markdown",
   "metadata": {},
   "source": [
    "## Formalização"
   ]
  },
  {
   "cell_type": "markdown",
   "metadata": {},
   "source": [
    "$$\n",
    "y_t = \\alpha + \\delta_0z_t + \\delta_1z_{t-1} + \\delta_2z_{t-2} + .... + u_t\n",
    "$$"
   ]
  },
  {
   "cell_type": "markdown",
   "metadata": {},
   "source": [
    "Trata-se, de séries bivariadas, em que a definição é generalizada, mas que do ponto de vista econômico, nenhuma série se estende infinitamente no futuro.\n",
    "\n",
    "Nesse caso, faz sentido que $\\delta_j \\to 0$ à medida que $t \\to \\infty$. Isso não significa, por exemplo, que há uma regra em que os coeficientes mais pertos do presente devem ser maiores, e sim que, ao longo do tempo, há uma tendência dos efeitos da variável independente sejam reduzidos sobre a variável dependente. Em outras palavras, o passado mais distante da variável dependente tende a ser menos relevante para explicar a variável dependente. \n",
    "\n",
    "Não podemos estimar um modelo com infinitos coeficientes e, ainda, não faria sentido econômico e prático, como dito anteriormente, dado que não temos séries temporais infinitas. Nesse caso, a principal restrição é **limitar o número de parâmetros a serem estimados**. \n",
    "\n",
    "Assim como nos modelos de defasagem finita (FDL), o impacto de um choque em $z$ é $\\delta_0$ se for transitório, mas pode ser a somatória dos $\\delta_j$'s caso o choque em $z$ seja permanente. \n",
    "\n",
    "Nesse caso, o impacto marginal de uma mundança temporária em $z$ para cada período $h \\geq 0$ é dado por:\n",
    "\n",
    "$$\n",
    "E(y_h) = \\alpha + \\delta_h + u_h = \\alpha + \\delta_h\n",
    "$$\n",
    "\n",
    "Com a mesma hipótese de que o erro tem um efeito médio igual a zero. \n",
    "\n",
    "Com um choque temporário e t tendendo a infinito, temos então que o efeito é transitório e se dissipa ao longo do tempo, de modo que $E(y_h) = \\alpha$.\n",
    "\n",
    "Já o impacto de um choque permanente é a soma de todos os coeficientes: \n",
    "\n",
    "$$\n",
    "LRP = \\delta_0 + \\delta_1 + \\delta_2 + ... + \\delta_n\n",
    "$$\n",
    "\n",
    "E na lógica similar ao choque transitório:\n",
    "\n",
    "$$\n",
    "E(y_h) = \\alpha + \\delta_0 + \\delta_1 + \\delta_2 + ... + \\delta_h + u_h = \\alpha + \\delta_0 + \\delta_1 + \\delta_2 + ... + \\delta_h\n",
    "$$\n",
    "\n",
    "Ao assumirmos essas duas formas com um efeito médio do erro igual à zero, trabalhamos também com a hipóteses de **exogeneidade estrita**. Formalmente, as mudanças em $z$ não provocariam mudanças no termo de erro e, formalmente: \n",
    "\n",
    "$$\n",
    "E(u_y|z_{t-2}, ..., z_{t+2}) = 0\n",
    "$$\n",
    "\n",
    "De modo que o erro não depende das variáveis exógenas em nenhum período de tempo. Em aplicações, esse pode ser o caso, mas limita outros casos em que uma mudança na variável exógena hoje seja reflexo de uma mudança na variável endógena no período anterior, principalmente em aplicações relacionadas à política econômica, por exemplo. \n",
    "\n",
    "Para casos como esse, assumimos uma hipótese mais fraca:\n",
    "\n",
    "$$\n",
    "E(u_y|z_t, ..., z_{t-2}) = 0\n",
    "$$\n",
    "\n",
    "Ou seja, fazemos com que o termo do erro não seja correlacionado com as variáveis exógenas apenas no período corrente e nos anteriores, permitindo correlação nos períodos futuros, caso a variável exógena seja alterada em razão dos resultados anteriores da exógena. \n",
    "\n",
    "Vale lembrar que nenhuma das formas dessa hipótese de exogeinedade diz algo sobre a correlação serial. Na verdade, podemos esperar, em boa parte dos casos que haja correlação serial, dado que a equação a ser estimada não necessariamente está completa dinâmicamente. \n",
    "\n",
    "Nesse caso, a interpretação dos impactos temporários e permanentes segue a mesma."
   ]
  },
  {
   "cell_type": "markdown",
   "metadata": {},
   "source": [
    "## Defasagem geométrica distribuída - (The Geometric (or Koyck) Distributed Lag)"
   ]
  },
  {
   "cell_type": "code",
   "execution_count": null,
   "metadata": {},
   "outputs": [],
   "source": []
  }
 ],
 "metadata": {
  "kernelspec": {
   "display_name": "Python 3.9.10 64-bit (windows store)",
   "language": "python",
   "name": "python3"
  },
  "language_info": {
   "codemirror_mode": {
    "name": "ipython",
    "version": 3
   },
   "file_extension": ".py",
   "mimetype": "text/x-python",
   "name": "python",
   "nbconvert_exporter": "python",
   "pygments_lexer": "ipython3",
   "version": "3.9.13"
  },
  "orig_nbformat": 4,
  "vscode": {
   "interpreter": {
    "hash": "50b6e48135b3aa07383f5a96ff512fd2c607c6638df435f7ef5dee28b012c53c"
   }
  }
 },
 "nbformat": 4,
 "nbformat_minor": 2
}
